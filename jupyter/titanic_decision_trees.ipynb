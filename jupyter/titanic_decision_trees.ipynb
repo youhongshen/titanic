{
 "cells": [
  {
   "cell_type": "code",
   "execution_count": 1,
   "metadata": {},
   "outputs": [],
   "source": [
    "import os\n",
    "import pandas as pd\n",
    "from sklearn.preprocessing import Imputer\n",
    "from sklearn.base import TransformerMixin\n",
    "import numpy as np"
   ]
  },
  {
   "cell_type": "code",
   "execution_count": 2,
   "metadata": {},
   "outputs": [],
   "source": [
    "class CategoricalImputer(TransformerMixin):\n",
    "    def fit(self, X, y=None):\n",
    "        # uniques, counts = np.unique(X, return_counts=True)\n",
    "        self.fill = pd.Series([X[c].value_counts().index[0]\n",
    "                               if X[c].dtype == np.dtype('O') else X[c].mean() for c in X],\n",
    "                              index=X.columns)\n",
    "\n",
    "        return self\n",
    "\n",
    "    def transform(self, X, y=None):\n",
    "        return X.fillna(self.fill)"
   ]
  },
  {
   "cell_type": "code",
   "execution_count": 3,
   "metadata": {},
   "outputs": [],
   "source": [
    "# data_dir = '/home/joan/PycharmProjects/titanic/data'\n",
    "data_dir = '../data'\n",
    "train_file = os.path.join(data_dir, 'train.csv')"
   ]
  },
  {
   "cell_type": "code",
   "execution_count": 4,
   "metadata": {},
   "outputs": [
    {
     "data": {
      "text/html": [
       "<div>\n",
       "<style>\n",
       "    .dataframe thead tr:only-child th {\n",
       "        text-align: right;\n",
       "    }\n",
       "\n",
       "    .dataframe thead th {\n",
       "        text-align: left;\n",
       "    }\n",
       "\n",
       "    .dataframe tbody tr th {\n",
       "        vertical-align: top;\n",
       "    }\n",
       "</style>\n",
       "<table border=\"1\" class=\"dataframe\">\n",
       "  <thead>\n",
       "    <tr style=\"text-align: right;\">\n",
       "      <th></th>\n",
       "      <th>Survived</th>\n",
       "      <th>Pclass</th>\n",
       "      <th>Sex</th>\n",
       "      <th>Age</th>\n",
       "      <th>SibSp</th>\n",
       "      <th>Parch</th>\n",
       "      <th>Fare</th>\n",
       "      <th>Embarked</th>\n",
       "    </tr>\n",
       "  </thead>\n",
       "  <tbody>\n",
       "    <tr>\n",
       "      <th>0</th>\n",
       "      <td>0</td>\n",
       "      <td>3</td>\n",
       "      <td>male</td>\n",
       "      <td>22.0</td>\n",
       "      <td>1</td>\n",
       "      <td>0</td>\n",
       "      <td>7.2500</td>\n",
       "      <td>S</td>\n",
       "    </tr>\n",
       "    <tr>\n",
       "      <th>1</th>\n",
       "      <td>1</td>\n",
       "      <td>1</td>\n",
       "      <td>female</td>\n",
       "      <td>38.0</td>\n",
       "      <td>1</td>\n",
       "      <td>0</td>\n",
       "      <td>71.2833</td>\n",
       "      <td>C</td>\n",
       "    </tr>\n",
       "    <tr>\n",
       "      <th>2</th>\n",
       "      <td>1</td>\n",
       "      <td>3</td>\n",
       "      <td>female</td>\n",
       "      <td>26.0</td>\n",
       "      <td>0</td>\n",
       "      <td>0</td>\n",
       "      <td>7.9250</td>\n",
       "      <td>S</td>\n",
       "    </tr>\n",
       "    <tr>\n",
       "      <th>3</th>\n",
       "      <td>1</td>\n",
       "      <td>1</td>\n",
       "      <td>female</td>\n",
       "      <td>35.0</td>\n",
       "      <td>1</td>\n",
       "      <td>0</td>\n",
       "      <td>53.1000</td>\n",
       "      <td>S</td>\n",
       "    </tr>\n",
       "    <tr>\n",
       "      <th>4</th>\n",
       "      <td>0</td>\n",
       "      <td>3</td>\n",
       "      <td>male</td>\n",
       "      <td>35.0</td>\n",
       "      <td>0</td>\n",
       "      <td>0</td>\n",
       "      <td>8.0500</td>\n",
       "      <td>S</td>\n",
       "    </tr>\n",
       "  </tbody>\n",
       "</table>\n",
       "</div>"
      ],
      "text/plain": [
       "   Survived  Pclass     Sex   Age  SibSp  Parch     Fare Embarked\n",
       "0         0       3    male  22.0      1      0   7.2500        S\n",
       "1         1       1  female  38.0      1      0  71.2833        C\n",
       "2         1       3  female  26.0      0      0   7.9250        S\n",
       "3         1       1  female  35.0      1      0  53.1000        S\n",
       "4         0       3    male  35.0      0      0   8.0500        S"
      ]
     },
     "execution_count": 4,
     "metadata": {},
     "output_type": "execute_result"
    }
   ],
   "source": [
    "data = pd.read_csv(train_file)\n",
    "def drop_cols(data):\n",
    "    data = data.drop(['PassengerId', 'Name', 'Ticket', 'Cabin'], axis=1)\n",
    "    return data\n",
    "\n",
    "data = drop_cols(data)\n",
    "data.head()"
   ]
  },
  {
   "cell_type": "code",
   "execution_count": 5,
   "metadata": {},
   "outputs": [
    {
     "data": {
      "text/plain": [
       "Survived    0\n",
       "Pclass      0\n",
       "Sex         0\n",
       "Age         0\n",
       "SibSp       0\n",
       "Parch       0\n",
       "Fare        0\n",
       "Embarked    0\n",
       "dtype: int64"
      ]
     },
     "execution_count": 5,
     "metadata": {},
     "output_type": "execute_result"
    }
   ],
   "source": [
    "def impute_data(data):\n",
    "    data[['Age', 'Fare']] = Imputer().fit_transform(data[['Age', 'Fare']].values)\n",
    "    embark_imputer = CategoricalImputer()\n",
    "    data['Embarked'] = embark_imputer.fit_transform(data[['Embarked']])\n",
    "    return data\n",
    "\n",
    "data = impute_data(data)\n",
    "data.isnull().sum()"
   ]
  },
  {
   "cell_type": "code",
   "execution_count": 6,
   "metadata": {},
   "outputs": [
    {
     "data": {
      "text/plain": [
       "Sex\n",
       "female    74.203822\n",
       "male      18.890815\n",
       "Name: Survived, dtype: float64"
      ]
     },
     "execution_count": 6,
     "metadata": {},
     "output_type": "execute_result"
    }
   ],
   "source": [
    "data.groupby(['Sex'])['Survived'].sum() * 100 /  data.groupby(['Sex'])['Survived'].count()"
   ]
  },
  {
   "cell_type": "code",
   "execution_count": 7,
   "metadata": {},
   "outputs": [
    {
     "data": {
      "text/html": [
       "<div>\n",
       "<style>\n",
       "    .dataframe thead tr:only-child th {\n",
       "        text-align: right;\n",
       "    }\n",
       "\n",
       "    .dataframe thead th {\n",
       "        text-align: left;\n",
       "    }\n",
       "\n",
       "    .dataframe tbody tr th {\n",
       "        vertical-align: top;\n",
       "    }\n",
       "</style>\n",
       "<table border=\"1\" class=\"dataframe\">\n",
       "  <thead>\n",
       "    <tr style=\"text-align: right;\">\n",
       "      <th></th>\n",
       "      <th>Survived</th>\n",
       "      <th>Pclass</th>\n",
       "      <th>Age</th>\n",
       "      <th>SibSp</th>\n",
       "      <th>Parch</th>\n",
       "      <th>Fare</th>\n",
       "      <th>Embarked</th>\n",
       "    </tr>\n",
       "    <tr>\n",
       "      <th>Sex</th>\n",
       "      <th></th>\n",
       "      <th></th>\n",
       "      <th></th>\n",
       "      <th></th>\n",
       "      <th></th>\n",
       "      <th></th>\n",
       "      <th></th>\n",
       "    </tr>\n",
       "  </thead>\n",
       "  <tbody>\n",
       "    <tr>\n",
       "      <th>female</th>\n",
       "      <td>314</td>\n",
       "      <td>314</td>\n",
       "      <td>314</td>\n",
       "      <td>314</td>\n",
       "      <td>314</td>\n",
       "      <td>314</td>\n",
       "      <td>314</td>\n",
       "    </tr>\n",
       "    <tr>\n",
       "      <th>male</th>\n",
       "      <td>577</td>\n",
       "      <td>577</td>\n",
       "      <td>577</td>\n",
       "      <td>577</td>\n",
       "      <td>577</td>\n",
       "      <td>577</td>\n",
       "      <td>577</td>\n",
       "    </tr>\n",
       "  </tbody>\n",
       "</table>\n",
       "</div>"
      ],
      "text/plain": [
       "        Survived  Pclass  Age  SibSp  Parch  Fare  Embarked\n",
       "Sex                                                        \n",
       "female       314     314  314    314    314   314       314\n",
       "male         577     577  577    577    577   577       577"
      ]
     },
     "execution_count": 7,
     "metadata": {},
     "output_type": "execute_result"
    }
   ],
   "source": [
    "data.groupby(['Sex']).count()"
   ]
  },
  {
   "cell_type": "code",
   "execution_count": 8,
   "metadata": {},
   "outputs": [
    {
     "data": {
      "text/plain": [
       "Pclass\n",
       "1    62.962963\n",
       "2    47.282609\n",
       "3    24.236253\n",
       "Name: Survived, dtype: float64"
      ]
     },
     "execution_count": 8,
     "metadata": {},
     "output_type": "execute_result"
    }
   ],
   "source": [
    "data.groupby(['Pclass'])['Survived'].sum() * 100 / data.groupby(['Pclass'])['Survived'].count()"
   ]
  },
  {
   "cell_type": "code",
   "execution_count": 9,
   "metadata": {},
   "outputs": [
    {
     "data": {
      "text/plain": [
       "SibSp\n",
       "0    34.539474\n",
       "1    53.588517\n",
       "2    46.428571\n",
       "3    25.000000\n",
       "4    16.666667\n",
       "5     0.000000\n",
       "8     0.000000\n",
       "Name: Survived, dtype: float64"
      ]
     },
     "execution_count": 9,
     "metadata": {},
     "output_type": "execute_result"
    }
   ],
   "source": [
    "attr = 'SibSp'\n",
    "data.groupby([attr])['Survived'].sum() * 100 / data.groupby([attr])['Survived'].count()"
   ]
  },
  {
   "cell_type": "code",
   "execution_count": 10,
   "metadata": {},
   "outputs": [
    {
     "data": {
      "text/plain": [
       "Parch\n",
       "0    34.365782\n",
       "1    55.084746\n",
       "2    50.000000\n",
       "3    60.000000\n",
       "4     0.000000\n",
       "5    20.000000\n",
       "6     0.000000\n",
       "Name: Survived, dtype: float64"
      ]
     },
     "execution_count": 10,
     "metadata": {},
     "output_type": "execute_result"
    }
   ],
   "source": [
    "attr = 'Parch'\n",
    "data.groupby([attr])['Survived'].sum() * 100 / data.groupby([attr])['Survived'].count()"
   ]
  },
  {
   "cell_type": "code",
   "execution_count": 11,
   "metadata": {},
   "outputs": [
    {
     "data": {
      "text/plain": [
       "Embarked\n",
       "C    55.357143\n",
       "Q    38.961039\n",
       "S    33.900929\n",
       "Name: Survived, dtype: float64"
      ]
     },
     "execution_count": 11,
     "metadata": {},
     "output_type": "execute_result"
    }
   ],
   "source": [
    "attr = 'Embarked'\n",
    "data.groupby([attr])['Survived'].sum() * 100 / data.groupby([attr])['Survived'].count()"
   ]
  },
  {
   "cell_type": "code",
   "execution_count": 12,
   "metadata": {},
   "outputs": [],
   "source": [
    "def cat_to_num(series):\n",
    "    series = series.astype('category')\n",
    "    return series.cat.codes"
   ]
  },
  {
   "cell_type": "code",
   "execution_count": 13,
   "metadata": {},
   "outputs": [
    {
     "data": {
      "text/html": [
       "<div>\n",
       "<style>\n",
       "    .dataframe thead tr:only-child th {\n",
       "        text-align: right;\n",
       "    }\n",
       "\n",
       "    .dataframe thead th {\n",
       "        text-align: left;\n",
       "    }\n",
       "\n",
       "    .dataframe tbody tr th {\n",
       "        vertical-align: top;\n",
       "    }\n",
       "</style>\n",
       "<table border=\"1\" class=\"dataframe\">\n",
       "  <thead>\n",
       "    <tr style=\"text-align: right;\">\n",
       "      <th></th>\n",
       "      <th>Sex</th>\n",
       "      <th>Embarked</th>\n",
       "    </tr>\n",
       "  </thead>\n",
       "  <tbody>\n",
       "    <tr>\n",
       "      <th>0</th>\n",
       "      <td>1</td>\n",
       "      <td>2</td>\n",
       "    </tr>\n",
       "    <tr>\n",
       "      <th>1</th>\n",
       "      <td>0</td>\n",
       "      <td>0</td>\n",
       "    </tr>\n",
       "    <tr>\n",
       "      <th>2</th>\n",
       "      <td>0</td>\n",
       "      <td>2</td>\n",
       "    </tr>\n",
       "    <tr>\n",
       "      <th>3</th>\n",
       "      <td>0</td>\n",
       "      <td>2</td>\n",
       "    </tr>\n",
       "    <tr>\n",
       "      <th>4</th>\n",
       "      <td>1</td>\n",
       "      <td>2</td>\n",
       "    </tr>\n",
       "  </tbody>\n",
       "</table>\n",
       "</div>"
      ],
      "text/plain": [
       "   Sex  Embarked\n",
       "0    1         2\n",
       "1    0         0\n",
       "2    0         2\n",
       "3    0         2\n",
       "4    1         2"
      ]
     },
     "execution_count": 13,
     "metadata": {},
     "output_type": "execute_result"
    }
   ],
   "source": [
    "def data_to_cat(data):\n",
    "    data[['Sex', 'Embarked']] = data[['Sex', 'Embarked']].apply(cat_to_num)\n",
    "    return data\n",
    "\n",
    "data = data_to_cat(data)\n",
    "data[['Sex', 'Embarked']].head()\n"
   ]
  },
  {
   "cell_type": "code",
   "execution_count": 14,
   "metadata": {},
   "outputs": [],
   "source": [
    "from sklearn.model_selection import train_test_split\n",
    "train, dev = train_test_split(data, test_size=0.2)"
   ]
  },
  {
   "cell_type": "code",
   "execution_count": 15,
   "metadata": {},
   "outputs": [
    {
     "data": {
      "text/plain": [
       "RandomForestClassifier(bootstrap=True, class_weight=None, criterion='gini',\n",
       "            max_depth=None, max_features='auto', max_leaf_nodes=None,\n",
       "            min_impurity_decrease=0.0, min_impurity_split=None,\n",
       "            min_samples_leaf=1, min_samples_split=2,\n",
       "            min_weight_fraction_leaf=0.0, n_estimators=10, n_jobs=1,\n",
       "            oob_score=False, random_state=None, verbose=0,\n",
       "            warm_start=False)"
      ]
     },
     "execution_count": 15,
     "metadata": {},
     "output_type": "execute_result"
    }
   ],
   "source": [
    "# build a random forest\n",
    "from sklearn.ensemble import RandomForestClassifier\n",
    "from sklearn.metrics import accuracy_score\n",
    "clf = RandomForestClassifier()\n",
    "clf"
   ]
  },
  {
   "cell_type": "code",
   "execution_count": 16,
   "metadata": {},
   "outputs": [],
   "source": [
    "def check_accuracy(clf, X, y, test_X, test_y):\n",
    "#   X, y are dataframes \n",
    "    clf = clf.fit(X, y)\n",
    "    pred = clf.predict(test_X)\n",
    "    return accuracy_score(test_y, pred)"
   ]
  },
  {
   "cell_type": "code",
   "execution_count": 17,
   "metadata": {},
   "outputs": [
    {
     "name": "stderr",
     "output_type": "stream",
     "text": [
      "/usr/lib/python2.7/site-packages/ipykernel_launcher.py:9: DataConversionWarning: A column-vector y was passed when a 1d array was expected. Please change the shape of y to (n_samples,), for example using ravel().\n",
      "  if __name__ == '__main__':\n"
     ]
    },
    {
     "data": {
      "text/plain": [
       "0.9691011235955056"
      ]
     },
     "execution_count": 17,
     "metadata": {},
     "output_type": "execute_result"
    }
   ],
   "source": [
    "# train on the training set\n",
    "X = train[['Pclass', 'Sex', 'Age', 'SibSp', 'Parch', 'Fare', 'Embarked']]\n",
    "y = train[['Survived']]\n",
    "dev_X = dev[['Pclass', 'Sex', 'Age', 'SibSp', 'Parch', 'Fare', 'Embarked']]\n",
    "dev_y = dev[['Survived']]\n",
    "# check_accuracy(clf, X, y, test_X, test_y)\n",
    "\n",
    "# fit the model\n",
    "clf = clf.fit(X, y)\n",
    "\n",
    "# predict train set\n",
    "train_yhat = clf.predict(X)\n",
    "accuracy_score(y, train_yhat)"
   ]
  },
  {
   "cell_type": "code",
   "execution_count": 18,
   "metadata": {},
   "outputs": [
    {
     "data": {
      "text/plain": [
       "0.78212290502793291"
      ]
     },
     "execution_count": 18,
     "metadata": {},
     "output_type": "execute_result"
    }
   ],
   "source": [
    "# predict the dev set - to see what the variance\n",
    "dev_yhat = clf.predict(dev_X)\n",
    "accuracy_score(dev_y, dev_yhat)"
   ]
  },
  {
   "cell_type": "code",
   "execution_count": 19,
   "metadata": {},
   "outputs": [
    {
     "data": {
      "text/plain": [
       "DecisionTreeClassifier(class_weight=None, criterion='gini', max_depth=None,\n",
       "            max_features=None, max_leaf_nodes=None,\n",
       "            min_impurity_decrease=0.0, min_impurity_split=None,\n",
       "            min_samples_leaf=1, min_samples_split=2,\n",
       "            min_weight_fraction_leaf=0.0, presort=False, random_state=None,\n",
       "            splitter='best')"
      ]
     },
     "execution_count": 19,
     "metadata": {},
     "output_type": "execute_result"
    }
   ],
   "source": [
    "# build a decision tree so we can do visualization\n",
    "from sklearn.tree import DecisionTreeClassifier\n",
    "tree_clf = DecisionTreeClassifier()\n",
    "tree_clf = tree_clf.fit(X, y)\n",
    "tree_clf"
   ]
  },
  {
   "cell_type": "code",
   "execution_count": 20,
   "metadata": {},
   "outputs": [],
   "source": [
    "# visualize the tree before hyperparameter tuning\n",
    "\n",
    "from sklearn import tree\n",
    "with open('titanic.dot', 'w') as f:\n",
    "    f = tree.export_graphviz(tree_clf,\n",
    "                            feature_names=['Pclass', 'Sex', 'Age', 'SibSp', 'Parch', 'Fare', 'Embarked'],\n",
    "                            out_file=f)\n",
    "\n",
    "# import sys\n",
    "# sys.path"
   ]
  },
  {
   "cell_type": "code",
   "execution_count": 35,
   "metadata": {},
   "outputs": [
    {
     "name": "stdout",
     "output_type": "stream",
     "text": [
      "before best\n",
      "{'min_samples_split': 10.0, 'max_leaf_nodes': 96.0, 'n_estimators': 18.0, 'max_depth': 27.0, 'min_samples_leaf': 4.0}\n"
     ]
    },
    {
     "name": "stderr",
     "output_type": "stream",
     "text": [
      "/usr/lib/python2.7/site-packages/ipykernel_launcher.py:3: DataConversionWarning: A column-vector y was passed when a 1d array was expected. Please change the shape of y to (n_samples,), for example using ravel().\n",
      "  This is separate from the ipykernel package so we can avoid doing imports until\n"
     ]
    },
    {
     "name": "stdout",
     "output_type": "stream",
     "text": [
      "{'min_samples_split': 10.0, 'max_leaf_nodes': 93.0, 'n_estimators': 19.0, 'max_depth': 29.0, 'min_samples_leaf': 8.0}\n",
      "{'min_samples_split': 8.0, 'max_leaf_nodes': 90.0, 'n_estimators': 17.0, 'max_depth': 30.0, 'min_samples_leaf': 8.0}\n",
      "{'min_samples_split': 12.0, 'max_leaf_nodes': 90.0, 'n_estimators': 18.0, 'max_depth': 29.0, 'min_samples_leaf': 4.0}\n",
      "{'min_samples_split': 8.0, 'max_leaf_nodes': 96.0, 'n_estimators': 15.0, 'max_depth': 27.0, 'min_samples_leaf': 8.0}\n",
      "{'min_samples_split': 12.0, 'max_leaf_nodes': 99.0, 'n_estimators': 17.0, 'max_depth': 28.0, 'min_samples_leaf': 8.0}\n",
      "{'min_samples_split': 8.0, 'max_leaf_nodes': 99.0, 'n_estimators': 17.0, 'max_depth': 26.0, 'min_samples_leaf': 6.0}\n",
      "{'min_samples_split': 10.0, 'max_leaf_nodes': 96.0, 'n_estimators': 17.0, 'max_depth': 28.0, 'min_samples_leaf': 6.0}\n",
      "{'min_samples_split': 10.0, 'max_leaf_nodes': 96.0, 'n_estimators': 16.0, 'max_depth': 27.0, 'min_samples_leaf': 6.0}\n",
      "{'min_samples_split': 8.0, 'max_leaf_nodes': 93.0, 'n_estimators': 18.0, 'max_depth': 25.0, 'min_samples_leaf': 6.0}\n",
      "{'min_samples_split': 10.0, 'max_leaf_nodes': 90.0, 'n_estimators': 18.0, 'max_depth': 25.0, 'min_samples_leaf': 8.0}\n",
      "{'min_samples_split': 10.0, 'max_leaf_nodes': 99.0, 'n_estimators': 18.0, 'max_depth': 28.0, 'min_samples_leaf': 6.0}\n",
      "{'min_samples_split': 8.0, 'max_leaf_nodes': 90.0, 'n_estimators': 19.0, 'max_depth': 27.0, 'min_samples_leaf': 4.0}\n",
      "{'min_samples_split': 10.0, 'max_leaf_nodes': 99.0, 'n_estimators': 16.0, 'max_depth': 29.0, 'min_samples_leaf': 8.0}\n",
      "{'min_samples_split': 8.0, 'max_leaf_nodes': 93.0, 'n_estimators': 19.0, 'max_depth': 29.0, 'min_samples_leaf': 6.0}\n",
      "{'min_samples_split': 8.0, 'max_leaf_nodes': 99.0, 'n_estimators': 18.0, 'max_depth': 28.0, 'min_samples_leaf': 4.0}\n",
      "{'min_samples_split': 10.0, 'max_leaf_nodes': 96.0, 'n_estimators': 19.0, 'max_depth': 26.0, 'min_samples_leaf': 4.0}\n",
      "{'min_samples_split': 10.0, 'max_leaf_nodes': 99.0, 'n_estimators': 17.0, 'max_depth': 28.0, 'min_samples_leaf': 4.0}\n",
      "{'min_samples_split': 10.0, 'max_leaf_nodes': 90.0, 'n_estimators': 18.0, 'max_depth': 28.0, 'min_samples_leaf': 8.0}\n",
      "{'min_samples_split': 10.0, 'max_leaf_nodes': 90.0, 'n_estimators': 16.0, 'max_depth': 27.0, 'min_samples_leaf': 8.0}\n",
      "{'min_samples_split': 12.0, 'max_leaf_nodes': 96.0, 'n_estimators': 20.0, 'max_depth': 26.0, 'min_samples_leaf': 4.0}\n",
      "{'min_samples_split': 12.0, 'max_leaf_nodes': 93.0, 'n_estimators': 20.0, 'max_depth': 30.0, 'min_samples_leaf': 6.0}\n",
      "{'min_samples_split': 8.0, 'max_leaf_nodes': 93.0, 'n_estimators': 15.0, 'max_depth': 30.0, 'min_samples_leaf': 4.0}\n",
      "{'min_samples_split': 12.0, 'max_leaf_nodes': 96.0, 'n_estimators': 16.0, 'max_depth': 26.0, 'min_samples_leaf': 6.0}\n",
      "{'min_samples_split': 10.0, 'max_leaf_nodes': 93.0, 'n_estimators': 19.0, 'max_depth': 27.0, 'min_samples_leaf': 8.0}\n",
      "{'min_samples_split': 10.0, 'max_leaf_nodes': 96.0, 'n_estimators': 20.0, 'max_depth': 27.0, 'min_samples_leaf': 4.0}\n",
      "{'min_samples_split': 12.0, 'max_leaf_nodes': 96.0, 'n_estimators': 20.0, 'max_depth': 26.0, 'min_samples_leaf': 4.0}\n",
      "{'min_samples_split': 12.0, 'max_leaf_nodes': 96.0, 'n_estimators': 20.0, 'max_depth': 25.0, 'min_samples_leaf': 4.0}\n",
      "{'min_samples_split': 12.0, 'max_leaf_nodes': 96.0, 'n_estimators': 20.0, 'max_depth': 26.0, 'min_samples_leaf': 4.0}\n",
      "{'min_samples_split': 12.0, 'max_leaf_nodes': 96.0, 'n_estimators': 20.0, 'max_depth': 25.0, 'min_samples_leaf': 4.0}\n",
      "{'min_samples_split': 12.0, 'max_leaf_nodes': 96.0, 'n_estimators': 19.0, 'max_depth': 26.0, 'min_samples_leaf': 4.0}\n",
      "{'min_samples_split': 12.0, 'max_leaf_nodes': 93.0, 'n_estimators': 20.0, 'max_depth': 27.0, 'min_samples_leaf': 4.0}\n",
      "{'min_samples_split': 12.0, 'max_leaf_nodes': 96.0, 'n_estimators': 19.0, 'max_depth': 26.0, 'min_samples_leaf': 4.0}\n",
      "{'min_samples_split': 12.0, 'max_leaf_nodes': 93.0, 'n_estimators': 20.0, 'max_depth': 25.0, 'min_samples_leaf': 4.0}\n",
      "{'min_samples_split': 8.0, 'max_leaf_nodes': 99.0, 'n_estimators': 19.0, 'max_depth': 27.0, 'min_samples_leaf': 6.0}\n",
      "{'min_samples_split': 10.0, 'max_leaf_nodes': 96.0, 'n_estimators': 20.0, 'max_depth': 26.0, 'min_samples_leaf': 4.0}\n",
      "{'min_samples_split': 12.0, 'max_leaf_nodes': 96.0, 'n_estimators': 20.0, 'max_depth': 27.0, 'min_samples_leaf': 4.0}\n",
      "{'min_samples_split': 8.0, 'max_leaf_nodes': 99.0, 'n_estimators': 19.0, 'max_depth': 25.0, 'min_samples_leaf': 6.0}\n",
      "{'min_samples_split': 10.0, 'max_leaf_nodes': 93.0, 'n_estimators': 19.0, 'max_depth': 27.0, 'min_samples_leaf': 6.0}\n",
      "{'min_samples_split': 12.0, 'max_leaf_nodes': 96.0, 'n_estimators': 20.0, 'max_depth': 29.0, 'min_samples_leaf': 4.0}\n",
      "{'min_samples_split': 8.0, 'max_leaf_nodes': 96.0, 'n_estimators': 17.0, 'max_depth': 26.0, 'min_samples_leaf': 6.0}\n",
      "{'min_samples_split': 10.0, 'max_leaf_nodes': 99.0, 'n_estimators': 18.0, 'max_depth': 25.0, 'min_samples_leaf': 4.0}\n",
      "{'min_samples_split': 10.0, 'max_leaf_nodes': 93.0, 'n_estimators': 15.0, 'max_depth': 28.0, 'min_samples_leaf': 6.0}\n",
      "{'min_samples_split': 8.0, 'max_leaf_nodes': 96.0, 'n_estimators': 19.0, 'max_depth': 27.0, 'min_samples_leaf': 4.0}\n",
      "{'min_samples_split': 12.0, 'max_leaf_nodes': 99.0, 'n_estimators': 18.0, 'max_depth': 26.0, 'min_samples_leaf': 4.0}\n",
      "{'min_samples_split': 10.0, 'max_leaf_nodes': 93.0, 'n_estimators': 20.0, 'max_depth': 25.0, 'min_samples_leaf': 6.0}\n",
      "{'min_samples_split': 8.0, 'max_leaf_nodes': 96.0, 'n_estimators': 19.0, 'max_depth': 28.0, 'min_samples_leaf': 6.0}\n",
      "{'min_samples_split': 10.0, 'max_leaf_nodes': 99.0, 'n_estimators': 17.0, 'max_depth': 27.0, 'min_samples_leaf': 4.0}\n",
      "{'min_samples_split': 12.0, 'max_leaf_nodes': 93.0, 'n_estimators': 18.0, 'max_depth': 29.0, 'min_samples_leaf': 4.0}\n",
      "{'min_samples_split': 10.0, 'max_leaf_nodes': 96.0, 'n_estimators': 20.0, 'max_depth': 26.0, 'min_samples_leaf': 6.0}\n",
      "{'min_samples_split': 8.0, 'max_leaf_nodes': 90.0, 'n_estimators': 16.0, 'max_depth': 27.0, 'min_samples_leaf': 4.0}\n",
      "{'min_samples_split': 12.0, 'max_leaf_nodes': 99.0, 'n_estimators': 15.0, 'max_depth': 28.0, 'min_samples_leaf': 4.0}\n",
      "{'min_samples_split': 10.0, 'max_leaf_nodes': 96.0, 'n_estimators': 19.0, 'max_depth': 26.0, 'min_samples_leaf': 6.0}\n",
      "{'min_samples_split': 8.0, 'max_leaf_nodes': 96.0, 'n_estimators': 18.0, 'max_depth': 27.0, 'min_samples_leaf': 8.0}\n",
      "{'min_samples_split': 12.0, 'max_leaf_nodes': 93.0, 'n_estimators': 20.0, 'max_depth': 25.0, 'min_samples_leaf': 6.0}\n",
      "{'min_samples_split': 10.0, 'max_leaf_nodes': 99.0, 'n_estimators': 17.0, 'max_depth': 28.0, 'min_samples_leaf': 4.0}\n",
      "{'min_samples_split': 8.0, 'max_leaf_nodes': 96.0, 'n_estimators': 19.0, 'max_depth': 30.0, 'min_samples_leaf': 8.0}\n",
      "{'min_samples_split': 12.0, 'max_leaf_nodes': 93.0, 'n_estimators': 18.0, 'max_depth': 26.0, 'min_samples_leaf': 4.0}\n",
      "{'min_samples_split': 10.0, 'max_leaf_nodes': 99.0, 'n_estimators': 16.0, 'max_depth': 29.0, 'min_samples_leaf': 6.0}\n",
      "{'min_samples_split': 10.0, 'max_leaf_nodes': 90.0, 'n_estimators': 20.0, 'max_depth': 25.0, 'min_samples_leaf': 4.0}\n",
      "{'min_samples_split': 12.0, 'max_leaf_nodes': 96.0, 'n_estimators': 20.0, 'max_depth': 28.0, 'min_samples_leaf': 4.0}\n",
      "{'min_samples_split': 12.0, 'max_leaf_nodes': 93.0, 'n_estimators': 19.0, 'max_depth': 27.0, 'min_samples_leaf': 6.0}\n",
      "{'min_samples_split': 8.0, 'max_leaf_nodes': 96.0, 'n_estimators': 17.0, 'max_depth': 26.0, 'min_samples_leaf': 4.0}\n",
      "{'min_samples_split': 10.0, 'max_leaf_nodes': 90.0, 'n_estimators': 20.0, 'max_depth': 27.0, 'min_samples_leaf': 4.0}\n",
      "{'min_samples_split': 12.0, 'max_leaf_nodes': 96.0, 'n_estimators': 19.0, 'max_depth': 29.0, 'min_samples_leaf': 8.0}\n",
      "{'min_samples_split': 12.0, 'max_leaf_nodes': 96.0, 'n_estimators': 20.0, 'max_depth': 26.0, 'min_samples_leaf': 4.0}\n",
      "{'min_samples_split': 12.0, 'max_leaf_nodes': 96.0, 'n_estimators': 20.0, 'max_depth': 26.0, 'min_samples_leaf': 4.0}\n",
      "{'min_samples_split': 12.0, 'max_leaf_nodes': 96.0, 'n_estimators': 20.0, 'max_depth': 25.0, 'min_samples_leaf': 4.0}\n",
      "{'min_samples_split': 12.0, 'max_leaf_nodes': 96.0, 'n_estimators': 20.0, 'max_depth': 26.0, 'min_samples_leaf': 4.0}\n",
      "{'min_samples_split': 12.0, 'max_leaf_nodes': 96.0, 'n_estimators': 19.0, 'max_depth': 25.0, 'min_samples_leaf': 4.0}\n",
      "{'min_samples_split': 12.0, 'max_leaf_nodes': 96.0, 'n_estimators': 20.0, 'max_depth': 26.0, 'min_samples_leaf': 4.0}\n"
     ]
    },
    {
     "name": "stdout",
     "output_type": "stream",
     "text": [
      "{'min_samples_split': 12.0, 'max_leaf_nodes': 99.0, 'n_estimators': 20.0, 'max_depth': 27.0, 'min_samples_leaf': 4.0}\n",
      "{'min_samples_split': 12.0, 'max_leaf_nodes': 96.0, 'n_estimators': 19.0, 'max_depth': 25.0, 'min_samples_leaf': 4.0}\n",
      "{'min_samples_split': 12.0, 'max_leaf_nodes': 96.0, 'n_estimators': 19.0, 'max_depth': 26.0, 'min_samples_leaf': 6.0}\n",
      "{'min_samples_split': 12.0, 'max_leaf_nodes': 93.0, 'n_estimators': 20.0, 'max_depth': 27.0, 'min_samples_leaf': 4.0}\n",
      "{'min_samples_split': 12.0, 'max_leaf_nodes': 99.0, 'n_estimators': 20.0, 'max_depth': 26.0, 'min_samples_leaf': 4.0}\n",
      "{'min_samples_split': 12.0, 'max_leaf_nodes': 96.0, 'n_estimators': 19.0, 'max_depth': 25.0, 'min_samples_leaf': 6.0}\n",
      "{'min_samples_split': 12.0, 'max_leaf_nodes': 93.0, 'n_estimators': 18.0, 'max_depth': 25.0, 'min_samples_leaf': 6.0}\n",
      "{'min_samples_split': 10.0, 'max_leaf_nodes': 90.0, 'n_estimators': 18.0, 'max_depth': 30.0, 'min_samples_leaf': 6.0}\n",
      "{'min_samples_split': 12.0, 'max_leaf_nodes': 93.0, 'n_estimators': 18.0, 'max_depth': 25.0, 'min_samples_leaf': 8.0}\n",
      "{'min_samples_split': 10.0, 'max_leaf_nodes': 96.0, 'n_estimators': 19.0, 'max_depth': 25.0, 'min_samples_leaf': 6.0}\n",
      "{'min_samples_split': 12.0, 'max_leaf_nodes': 93.0, 'n_estimators': 18.0, 'max_depth': 25.0, 'min_samples_leaf': 6.0}\n",
      "{'min_samples_split': 8.0, 'max_leaf_nodes': 93.0, 'n_estimators': 17.0, 'max_depth': 25.0, 'min_samples_leaf': 8.0}\n",
      "{'min_samples_split': 12.0, 'max_leaf_nodes': 93.0, 'n_estimators': 18.0, 'max_depth': 25.0, 'min_samples_leaf': 6.0}\n",
      "{'min_samples_split': 10.0, 'max_leaf_nodes': 90.0, 'n_estimators': 18.0, 'max_depth': 30.0, 'min_samples_leaf': 6.0}\n",
      "{'min_samples_split': 10.0, 'max_leaf_nodes': 93.0, 'n_estimators': 19.0, 'max_depth': 28.0, 'min_samples_leaf': 6.0}\n",
      "{'min_samples_split': 12.0, 'max_leaf_nodes': 99.0, 'n_estimators': 19.0, 'max_depth': 27.0, 'min_samples_leaf': 6.0}\n",
      "{'min_samples_split': 8.0, 'max_leaf_nodes': 96.0, 'n_estimators': 20.0, 'max_depth': 26.0, 'min_samples_leaf': 6.0}\n",
      "{'min_samples_split': 12.0, 'max_leaf_nodes': 96.0, 'n_estimators': 20.0, 'max_depth': 27.0, 'min_samples_leaf': 8.0}\n",
      "{'min_samples_split': 10.0, 'max_leaf_nodes': 99.0, 'n_estimators': 19.0, 'max_depth': 26.0, 'min_samples_leaf': 6.0}\n",
      "{'min_samples_split': 8.0, 'max_leaf_nodes': 90.0, 'n_estimators': 17.0, 'max_depth': 25.0, 'min_samples_leaf': 8.0}\n",
      "{'min_samples_split': 12.0, 'max_leaf_nodes': 96.0, 'n_estimators': 20.0, 'max_depth': 27.0, 'min_samples_leaf': 6.0}\n",
      "{'min_samples_split': 10.0, 'max_leaf_nodes': 96.0, 'n_estimators': 19.0, 'max_depth': 28.0, 'min_samples_leaf': 6.0}\n",
      "{'min_samples_split': 12.0, 'max_leaf_nodes': 96.0, 'n_estimators': 20.0, 'max_depth': 26.0, 'min_samples_leaf': 6.0}\n",
      "{'min_samples_split': 12.0, 'max_leaf_nodes': 99.0, 'n_estimators': 20.0, 'max_depth': 26.0, 'min_samples_leaf': 6.0}\n",
      "{'min_samples_split': 10.0, 'max_leaf_nodes': 93.0, 'n_estimators': 18.0, 'max_depth': 29.0, 'min_samples_leaf': 8.0}\n",
      "{'min_samples_split': 8.0, 'max_leaf_nodes': 96.0, 'n_estimators': 19.0, 'max_depth': 27.0, 'min_samples_leaf': 4.0}\n",
      "{'min_samples_split': 12.0, 'max_leaf_nodes': 93.0, 'n_estimators': 17.0, 'max_depth': 25.0, 'min_samples_leaf': 6.0}\n",
      "{'min_samples_split': 10.0, 'max_leaf_nodes': 96.0, 'n_estimators': 19.0, 'max_depth': 28.0, 'min_samples_leaf': 4.0}\n",
      "{'min_samples_split': 12.0, 'max_leaf_nodes': 96.0, 'n_estimators': 20.0, 'max_depth': 27.0, 'min_samples_leaf': 4.0}\n",
      "{'min_samples_split': 12.0, 'max_leaf_nodes': 99.0, 'n_estimators': 16.0, 'max_depth': 26.0, 'min_samples_leaf': 4.0}\n",
      "{'min_samples_split': 8.0, 'max_leaf_nodes': 96.0, 'n_estimators': 20.0, 'max_depth': 26.0, 'min_samples_leaf': 6.0}\n",
      "{'min_samples_split': 10.0, 'max_leaf_nodes': 96.0, 'n_estimators': 19.0, 'max_depth': 27.0, 'min_samples_leaf': 4.0}\n",
      "{'min_samples_split': 12.0, 'max_leaf_nodes': 96.0, 'n_estimators': 20.0, 'max_depth': 25.0, 'min_samples_leaf': 8.0}\n",
      "{'min_samples_split': 12.0, 'max_leaf_nodes': 99.0, 'n_estimators': 15.0, 'max_depth': 28.0, 'min_samples_leaf': 6.0}\n",
      "{'min_samples_split': 8.0, 'max_leaf_nodes': 96.0, 'n_estimators': 19.0, 'max_depth': 26.0, 'min_samples_leaf': 4.0}\n",
      "{'min_samples_split': 10.0, 'max_leaf_nodes': 96.0, 'n_estimators': 20.0, 'max_depth': 27.0, 'min_samples_leaf': 4.0}\n",
      "{'min_samples_split': 12.0, 'max_leaf_nodes': 99.0, 'n_estimators': 20.0, 'max_depth': 25.0, 'min_samples_leaf': 6.0}\n",
      "{'min_samples_split': 12.0, 'max_leaf_nodes': 93.0, 'n_estimators': 18.0, 'max_depth': 29.0, 'min_samples_leaf': 8.0}\n",
      "{'min_samples_split': 10.0, 'max_leaf_nodes': 96.0, 'n_estimators': 19.0, 'max_depth': 26.0, 'min_samples_leaf': 4.0}\n",
      "{'min_samples_split': 12.0, 'max_leaf_nodes': 90.0, 'n_estimators': 18.0, 'max_depth': 25.0, 'min_samples_leaf': 6.0}\n",
      "{'min_samples_split': 12.0, 'max_leaf_nodes': 93.0, 'n_estimators': 17.0, 'max_depth': 30.0, 'min_samples_leaf': 6.0}\n",
      "{'min_samples_split': 8.0, 'max_leaf_nodes': 93.0, 'n_estimators': 18.0, 'max_depth': 29.0, 'min_samples_leaf': 8.0}\n",
      "{'min_samples_split': 10.0, 'max_leaf_nodes': 90.0, 'n_estimators': 18.0, 'max_depth': 25.0, 'min_samples_leaf': 6.0}\n",
      "{'min_samples_split': 12.0, 'max_leaf_nodes': 93.0, 'n_estimators': 17.0, 'max_depth': 25.0, 'min_samples_leaf': 6.0}\n",
      "{'min_samples_split': 12.0, 'max_leaf_nodes': 93.0, 'n_estimators': 18.0, 'max_depth': 25.0, 'min_samples_leaf': 8.0}\n",
      "{'min_samples_split': 10.0, 'max_leaf_nodes': 96.0, 'n_estimators': 20.0, 'max_depth': 26.0, 'min_samples_leaf': 4.0}\n",
      "{'min_samples_split': 12.0, 'max_leaf_nodes': 90.0, 'n_estimators': 18.0, 'max_depth': 28.0, 'min_samples_leaf': 6.0}\n",
      "{'min_samples_split': 8.0, 'max_leaf_nodes': 99.0, 'n_estimators': 20.0, 'max_depth': 27.0, 'min_samples_leaf': 4.0}\n",
      "{'min_samples_split': 12.0, 'max_leaf_nodes': 93.0, 'n_estimators': 17.0, 'max_depth': 25.0, 'min_samples_leaf': 6.0}\n",
      "{'min_samples_split': 10.0, 'max_leaf_nodes': 96.0, 'n_estimators': 19.0, 'max_depth': 27.0, 'min_samples_leaf': 4.0}\n",
      "{'min_samples_split': 8.0, 'max_leaf_nodes': 96.0, 'n_estimators': 20.0, 'max_depth': 26.0, 'min_samples_leaf': 4.0}\n",
      "{'min_samples_split': 12.0, 'max_leaf_nodes': 99.0, 'n_estimators': 19.0, 'max_depth': 26.0, 'min_samples_leaf': 4.0}\n",
      "{'min_samples_split': 10.0, 'max_leaf_nodes': 96.0, 'n_estimators': 19.0, 'max_depth': 27.0, 'min_samples_leaf': 4.0}\n",
      "{'min_samples_split': 12.0, 'max_leaf_nodes': 96.0, 'n_estimators': 16.0, 'max_depth': 27.0, 'min_samples_leaf': 4.0}\n",
      "{'min_samples_split': 12.0, 'max_leaf_nodes': 93.0, 'n_estimators': 18.0, 'max_depth': 30.0, 'min_samples_leaf': 6.0}\n",
      "{'min_samples_split': 12.0, 'max_leaf_nodes': 93.0, 'n_estimators': 18.0, 'max_depth': 28.0, 'min_samples_leaf': 6.0}\n",
      "{'min_samples_split': 8.0, 'max_leaf_nodes': 96.0, 'n_estimators': 20.0, 'max_depth': 26.0, 'min_samples_leaf': 4.0}\n",
      "{'min_samples_split': 10.0, 'max_leaf_nodes': 99.0, 'n_estimators': 20.0, 'max_depth': 26.0, 'min_samples_leaf': 4.0}\n",
      "{'min_samples_split': 12.0, 'max_leaf_nodes': 96.0, 'n_estimators': 20.0, 'max_depth': 27.0, 'min_samples_leaf': 6.0}\n",
      "{'min_samples_split': 10.0, 'max_leaf_nodes': 96.0, 'n_estimators': 19.0, 'max_depth': 26.0, 'min_samples_leaf': 4.0}\n",
      "{'min_samples_split': 12.0, 'max_leaf_nodes': 99.0, 'n_estimators': 20.0, 'max_depth': 25.0, 'min_samples_leaf': 6.0}\n",
      "{'min_samples_split': 8.0, 'max_leaf_nodes': 96.0, 'n_estimators': 19.0, 'max_depth': 28.0, 'min_samples_leaf': 4.0}\n",
      "{'min_samples_split': 10.0, 'max_leaf_nodes': 96.0, 'n_estimators': 19.0, 'max_depth': 27.0, 'min_samples_leaf': 6.0}\n",
      "{'min_samples_split': 12.0, 'max_leaf_nodes': 96.0, 'n_estimators': 16.0, 'max_depth': 25.0, 'min_samples_leaf': 4.0}\n",
      "{'min_samples_split': 8.0, 'max_leaf_nodes': 99.0, 'n_estimators': 19.0, 'max_depth': 29.0, 'min_samples_leaf': 4.0}\n",
      "{'min_samples_split': 8.0, 'max_leaf_nodes': 96.0, 'n_estimators': 19.0, 'max_depth': 29.0, 'min_samples_leaf': 8.0}\n",
      "{'min_samples_split': 8.0, 'max_leaf_nodes': 96.0, 'n_estimators': 19.0, 'max_depth': 28.0, 'min_samples_leaf': 6.0}\n",
      "{'min_samples_split': 8.0, 'max_leaf_nodes': 96.0, 'n_estimators': 19.0, 'max_depth': 29.0, 'min_samples_leaf': 4.0}\n",
      "{'min_samples_split': 12.0, 'max_leaf_nodes': 99.0, 'n_estimators': 20.0, 'max_depth': 26.0, 'min_samples_leaf': 8.0}\n",
      "{'min_samples_split': 12.0, 'max_leaf_nodes': 96.0, 'n_estimators': 20.0, 'max_depth': 26.0, 'min_samples_leaf': 6.0}\n"
     ]
    },
    {
     "name": "stdout",
     "output_type": "stream",
     "text": [
      "{'min_samples_split': 10.0, 'max_leaf_nodes': 90.0, 'n_estimators': 18.0, 'max_depth': 25.0, 'min_samples_leaf': 8.0}\n",
      "{'min_samples_split': 8.0, 'max_leaf_nodes': 96.0, 'n_estimators': 19.0, 'max_depth': 28.0, 'min_samples_leaf': 4.0}\n",
      "{'min_samples_split': 12.0, 'max_leaf_nodes': 99.0, 'n_estimators': 15.0, 'max_depth': 27.0, 'min_samples_leaf': 6.0}\n",
      "{'min_samples_split': 10.0, 'max_leaf_nodes': 96.0, 'n_estimators': 20.0, 'max_depth': 26.0, 'min_samples_leaf': 4.0}\n",
      "{'min_samples_split': 12.0, 'max_leaf_nodes': 93.0, 'n_estimators': 18.0, 'max_depth': 25.0, 'min_samples_leaf': 6.0}\n",
      "{'min_samples_split': 8.0, 'max_leaf_nodes': 96.0, 'n_estimators': 20.0, 'max_depth': 28.0, 'min_samples_leaf': 4.0}\n",
      "{'min_samples_split': 12.0, 'max_leaf_nodes': 93.0, 'n_estimators': 17.0, 'max_depth': 25.0, 'min_samples_leaf': 6.0}\n",
      "{'min_samples_split': 8.0, 'max_leaf_nodes': 96.0, 'n_estimators': 20.0, 'max_depth': 28.0, 'min_samples_leaf': 4.0}\n",
      "{'min_samples_split': 12.0, 'max_leaf_nodes': 93.0, 'n_estimators': 18.0, 'max_depth': 25.0, 'min_samples_leaf': 6.0}\n",
      "{'min_samples_split': 10.0, 'max_leaf_nodes': 96.0, 'n_estimators': 19.0, 'max_depth': 28.0, 'min_samples_leaf': 4.0}\n",
      "{'min_samples_split': 8.0, 'max_leaf_nodes': 96.0, 'n_estimators': 20.0, 'max_depth': 28.0, 'min_samples_leaf': 4.0}\n",
      "{'min_samples_split': 8.0, 'max_leaf_nodes': 93.0, 'n_estimators': 17.0, 'max_depth': 29.0, 'min_samples_leaf': 6.0}\n",
      "{'min_samples_split': 10.0, 'max_leaf_nodes': 96.0, 'n_estimators': 19.0, 'max_depth': 28.0, 'min_samples_leaf': 4.0}\n",
      "{'min_samples_split': 8.0, 'max_leaf_nodes': 96.0, 'n_estimators': 20.0, 'max_depth': 27.0, 'min_samples_leaf': 4.0}\n",
      "{'min_samples_split': 12.0, 'max_leaf_nodes': 96.0, 'n_estimators': 20.0, 'max_depth': 26.0, 'min_samples_leaf': 4.0}\n",
      "{'min_samples_split': 12.0, 'max_leaf_nodes': 96.0, 'n_estimators': 20.0, 'max_depth': 26.0, 'min_samples_leaf': 4.0}\n",
      "{'min_samples_split': 10.0, 'max_leaf_nodes': 96.0, 'n_estimators': 19.0, 'max_depth': 28.0, 'min_samples_leaf': 4.0}\n",
      "{'min_samples_split': 8.0, 'max_leaf_nodes': 96.0, 'n_estimators': 19.0, 'max_depth': 27.0, 'min_samples_leaf': 4.0}\n",
      "{'min_samples_split': 12.0, 'max_leaf_nodes': 93.0, 'n_estimators': 18.0, 'max_depth': 25.0, 'min_samples_leaf': 6.0}\n",
      "{'min_samples_split': 12.0, 'max_leaf_nodes': 93.0, 'n_estimators': 18.0, 'max_depth': 25.0, 'min_samples_leaf': 6.0}\n",
      "{'min_samples_split': 12.0, 'max_leaf_nodes': 96.0, 'n_estimators': 20.0, 'max_depth': 26.0, 'min_samples_leaf': 4.0}\n",
      "{'min_samples_split': 10.0, 'max_leaf_nodes': 96.0, 'n_estimators': 19.0, 'max_depth': 28.0, 'min_samples_leaf': 4.0}\n",
      "{'min_samples_split': 12.0, 'max_leaf_nodes': 90.0, 'n_estimators': 17.0, 'max_depth': 25.0, 'min_samples_leaf': 6.0}\n",
      "{'min_samples_split': 12.0, 'max_leaf_nodes': 93.0, 'n_estimators': 18.0, 'max_depth': 25.0, 'min_samples_leaf': 6.0}\n",
      "{'min_samples_split': 12.0, 'max_leaf_nodes': 96.0, 'n_estimators': 20.0, 'max_depth': 26.0, 'min_samples_leaf': 4.0}\n",
      "{'min_samples_split': 12.0, 'max_leaf_nodes': 96.0, 'n_estimators': 20.0, 'max_depth': 27.0, 'min_samples_leaf': 4.0}\n",
      "{'min_samples_split': 12.0, 'max_leaf_nodes': 99.0, 'n_estimators': 20.0, 'max_depth': 26.0, 'min_samples_leaf': 4.0}\n",
      "{'min_samples_split': 10.0, 'max_leaf_nodes': 90.0, 'n_estimators': 18.0, 'max_depth': 29.0, 'min_samples_leaf': 6.0}\n",
      "{'min_samples_split': 12.0, 'max_leaf_nodes': 93.0, 'n_estimators': 19.0, 'max_depth': 25.0, 'min_samples_leaf': 6.0}\n",
      "{'min_samples_split': 12.0, 'max_leaf_nodes': 93.0, 'n_estimators': 17.0, 'max_depth': 25.0, 'min_samples_leaf': 6.0}\n",
      "{'min_samples_split': 8.0, 'max_leaf_nodes': 96.0, 'n_estimators': 19.0, 'max_depth': 27.0, 'min_samples_leaf': 4.0}\n",
      "{'min_samples_split': 12.0, 'max_leaf_nodes': 99.0, 'n_estimators': 20.0, 'max_depth': 26.0, 'min_samples_leaf': 4.0}\n",
      "{'min_samples_split': 12.0, 'max_leaf_nodes': 96.0, 'n_estimators': 20.0, 'max_depth': 27.0, 'min_samples_leaf': 4.0}\n",
      "{'min_samples_split': 12.0, 'max_leaf_nodes': 96.0, 'n_estimators': 20.0, 'max_depth': 26.0, 'min_samples_leaf': 4.0}\n",
      "{'min_samples_split': 10.0, 'max_leaf_nodes': 96.0, 'n_estimators': 19.0, 'max_depth': 28.0, 'min_samples_leaf': 4.0}\n",
      "{'min_samples_split': 12.0, 'max_leaf_nodes': 90.0, 'n_estimators': 18.0, 'max_depth': 25.0, 'min_samples_leaf': 6.0}\n",
      "{'min_samples_split': 8.0, 'max_leaf_nodes': 96.0, 'n_estimators': 19.0, 'max_depth': 28.0, 'min_samples_leaf': 4.0}\n",
      "{'min_samples_split': 12.0, 'max_leaf_nodes': 99.0, 'n_estimators': 20.0, 'max_depth': 26.0, 'min_samples_leaf': 4.0}\n",
      "{'min_samples_split': 12.0, 'max_leaf_nodes': 93.0, 'n_estimators': 18.0, 'max_depth': 25.0, 'min_samples_leaf': 6.0}\n",
      "{'min_samples_split': 12.0, 'max_leaf_nodes': 93.0, 'n_estimators': 16.0, 'max_depth': 25.0, 'min_samples_leaf': 8.0}\n",
      "{'min_samples_split': 10.0, 'max_leaf_nodes': 96.0, 'n_estimators': 19.0, 'max_depth': 27.0, 'min_samples_leaf': 4.0}\n",
      "{'min_samples_split': 10.0, 'max_leaf_nodes': 96.0, 'n_estimators': 19.0, 'max_depth': 27.0, 'min_samples_leaf': 4.0}\n",
      "{'min_samples_split': 10.0, 'max_leaf_nodes': 96.0, 'n_estimators': 19.0, 'max_depth': 27.0, 'min_samples_leaf': 4.0}\n",
      "{'min_samples_split': 10.0, 'max_leaf_nodes': 96.0, 'n_estimators': 19.0, 'max_depth': 27.0, 'min_samples_leaf': 4.0}\n",
      "{'min_samples_split': 10.0, 'max_leaf_nodes': 96.0, 'n_estimators': 19.0, 'max_depth': 27.0, 'min_samples_leaf': 4.0}\n",
      "{'min_samples_split': 10.0, 'max_leaf_nodes': 96.0, 'n_estimators': 19.0, 'max_depth': 27.0, 'min_samples_leaf': 4.0}\n",
      "{'min_samples_split': 10.0, 'max_leaf_nodes': 99.0, 'n_estimators': 19.0, 'max_depth': 27.0, 'min_samples_leaf': 4.0}\n",
      "{'min_samples_split': 10.0, 'max_leaf_nodes': 96.0, 'n_estimators': 19.0, 'max_depth': 27.0, 'min_samples_leaf': 4.0}\n",
      "{'min_samples_split': 10.0, 'max_leaf_nodes': 96.0, 'n_estimators': 18.0, 'max_depth': 27.0, 'min_samples_leaf': 6.0}\n",
      "{'min_samples_split': 10.0, 'max_leaf_nodes': 96.0, 'n_estimators': 19.0, 'max_depth': 27.0, 'min_samples_leaf': 4.0}\n",
      "{'min_samples_split': 10.0, 'max_leaf_nodes': 99.0, 'n_estimators': 19.0, 'max_depth': 30.0, 'min_samples_leaf': 6.0}\n",
      "{'min_samples_split': 10.0, 'max_leaf_nodes': 96.0, 'n_estimators': 19.0, 'max_depth': 27.0, 'min_samples_leaf': 4.0}\n",
      "{'min_samples_split': 10.0, 'max_leaf_nodes': 96.0, 'n_estimators': 18.0, 'max_depth': 27.0, 'min_samples_leaf': 4.0}\n",
      "{'min_samples_split': 10.0, 'max_leaf_nodes': 99.0, 'n_estimators': 19.0, 'max_depth': 28.0, 'min_samples_leaf': 6.0}\n",
      "{'min_samples_split': 10.0, 'max_leaf_nodes': 96.0, 'n_estimators': 20.0, 'max_depth': 27.0, 'min_samples_leaf': 4.0}\n",
      "{'min_samples_split': 10.0, 'max_leaf_nodes': 96.0, 'n_estimators': 18.0, 'max_depth': 28.0, 'min_samples_leaf': 6.0}\n",
      "{'min_samples_split': 10.0, 'max_leaf_nodes': 96.0, 'n_estimators': 19.0, 'max_depth': 27.0, 'min_samples_leaf': 8.0}\n",
      "{'min_samples_split': 10.0, 'max_leaf_nodes': 96.0, 'n_estimators': 18.0, 'max_depth': 27.0, 'min_samples_leaf': 4.0}\n",
      "{'min_samples_split': 10.0, 'max_leaf_nodes': 99.0, 'n_estimators': 20.0, 'max_depth': 28.0, 'min_samples_leaf': 6.0}\n",
      "{'min_samples_split': 10.0, 'max_leaf_nodes': 96.0, 'n_estimators': 19.0, 'max_depth': 29.0, 'min_samples_leaf': 4.0}\n",
      "{'min_samples_split': 10.0, 'max_leaf_nodes': 96.0, 'n_estimators': 20.0, 'max_depth': 27.0, 'min_samples_leaf': 4.0}\n",
      "{'min_samples_split': 10.0, 'max_leaf_nodes': 99.0, 'n_estimators': 20.0, 'max_depth': 28.0, 'min_samples_leaf': 6.0}\n",
      "{'min_samples_split': 10.0, 'max_leaf_nodes': 96.0, 'n_estimators': 19.0, 'max_depth': 27.0, 'min_samples_leaf': 4.0}\n",
      "{'min_samples_split': 10.0, 'max_leaf_nodes': 96.0, 'n_estimators': 19.0, 'max_depth': 27.0, 'min_samples_leaf': 6.0}\n",
      "{'min_samples_split': 10.0, 'max_leaf_nodes': 96.0, 'n_estimators': 18.0, 'max_depth': 28.0, 'min_samples_leaf': 4.0}\n",
      "{'min_samples_split': 10.0, 'max_leaf_nodes': 99.0, 'n_estimators': 20.0, 'max_depth': 28.0, 'min_samples_leaf': 4.0}\n",
      "{'min_samples_split': 10.0, 'max_leaf_nodes': 96.0, 'n_estimators': 19.0, 'max_depth': 27.0, 'min_samples_leaf': 6.0}\n",
      "{'min_samples_split': 10.0, 'max_leaf_nodes': 96.0, 'n_estimators': 18.0, 'max_depth': 26.0, 'min_samples_leaf': 4.0}\n",
      "{'min_samples_split': 10.0, 'max_leaf_nodes': 96.0, 'n_estimators': 20.0, 'max_depth': 27.0, 'min_samples_leaf': 8.0}\n",
      "{'min_samples_split': 10.0, 'max_leaf_nodes': 96.0, 'n_estimators': 17.0, 'max_depth': 30.0, 'min_samples_leaf': 6.0}\n"
     ]
    },
    {
     "name": "stdout",
     "output_type": "stream",
     "text": [
      "{'min_samples_split': 10.0, 'max_leaf_nodes': 99.0, 'n_estimators': 19.0, 'max_depth': 29.0, 'min_samples_leaf': 4.0}\n",
      "{'min_samples_split': 10.0, 'max_leaf_nodes': 96.0, 'n_estimators': 16.0, 'max_depth': 27.0, 'min_samples_leaf': 4.0}\n",
      "{'min_samples_split': 10.0, 'max_leaf_nodes': 96.0, 'n_estimators': 15.0, 'max_depth': 26.0, 'min_samples_leaf': 6.0}\n",
      "{'min_samples_split': 10.0, 'max_leaf_nodes': 93.0, 'n_estimators': 20.0, 'max_depth': 28.0, 'min_samples_leaf': 4.0}\n",
      "{'min_samples_split': 10.0, 'max_leaf_nodes': 96.0, 'n_estimators': 18.0, 'max_depth': 27.0, 'min_samples_leaf': 6.0}\n",
      "{'min_samples_split': 10.0, 'max_leaf_nodes': 96.0, 'n_estimators': 20.0, 'max_depth': 26.0, 'min_samples_leaf': 4.0}\n",
      "{'min_samples_split': 10.0, 'max_leaf_nodes': 99.0, 'n_estimators': 19.0, 'max_depth': 28.0, 'min_samples_leaf': 6.0}\n",
      "{'min_samples_split': 10.0, 'max_leaf_nodes': 96.0, 'n_estimators': 19.0, 'max_depth': 30.0, 'min_samples_leaf': 4.0}\n",
      "{'min_samples_split': 10.0, 'max_leaf_nodes': 93.0, 'n_estimators': 18.0, 'max_depth': 26.0, 'min_samples_leaf': 8.0}\n",
      "{'min_samples_split': 10.0, 'max_leaf_nodes': 96.0, 'n_estimators': 20.0, 'max_depth': 27.0, 'min_samples_leaf': 4.0}\n",
      "{'min_samples_split': 8.0, 'max_leaf_nodes': 96.0, 'n_estimators': 19.0, 'max_depth': 27.0, 'min_samples_leaf': 6.0}\n",
      "{'min_samples_split': 10.0, 'max_leaf_nodes': 99.0, 'n_estimators': 20.0, 'max_depth': 27.0, 'min_samples_leaf': 4.0}\n",
      "{'min_samples_split': 10.0, 'max_leaf_nodes': 93.0, 'n_estimators': 19.0, 'max_depth': 29.0, 'min_samples_leaf': 4.0}\n",
      "{'min_samples_split': 10.0, 'max_leaf_nodes': 96.0, 'n_estimators': 18.0, 'max_depth': 28.0, 'min_samples_leaf': 6.0}\n",
      "{'min_samples_split': 10.0, 'max_leaf_nodes': 96.0, 'n_estimators': 17.0, 'max_depth': 26.0, 'min_samples_leaf': 4.0}\n",
      "{'min_samples_split': 8.0, 'max_leaf_nodes': 99.0, 'n_estimators': 20.0, 'max_depth': 26.0, 'min_samples_leaf': 8.0}\n",
      "{'min_samples_split': 10.0, 'max_leaf_nodes': 93.0, 'n_estimators': 19.0, 'max_depth': 27.0, 'min_samples_leaf': 6.0}\n",
      "{'min_samples_split': 10.0, 'max_leaf_nodes': 96.0, 'n_estimators': 20.0, 'max_depth': 28.0, 'min_samples_leaf': 4.0}\n",
      "{'min_samples_split': 8.0, 'max_leaf_nodes': 96.0, 'n_estimators': 19.0, 'max_depth': 27.0, 'min_samples_leaf': 4.0}\n",
      "{'min_samples_split': 10.0, 'max_leaf_nodes': 96.0, 'n_estimators': 20.0, 'max_depth': 27.0, 'min_samples_leaf': 6.0}\n",
      "{'min_samples_split': 10.0, 'max_leaf_nodes': 93.0, 'n_estimators': 15.0, 'max_depth': 26.0, 'min_samples_leaf': 4.0}\n",
      "{'min_samples_split': 10.0, 'max_leaf_nodes': 96.0, 'n_estimators': 18.0, 'max_depth': 28.0, 'min_samples_leaf': 6.0}\n",
      "{'min_samples_split': 8.0, 'max_leaf_nodes': 96.0, 'n_estimators': 19.0, 'max_depth': 26.0, 'min_samples_leaf': 4.0}\n",
      "{'min_samples_split': 10.0, 'max_leaf_nodes': 96.0, 'n_estimators': 18.0, 'max_depth': 29.0, 'min_samples_leaf': 4.0}\n",
      "{'min_samples_split': 10.0, 'max_leaf_nodes': 93.0, 'n_estimators': 19.0, 'max_depth': 28.0, 'min_samples_leaf': 6.0}\n",
      "{'min_samples_split': 8.0, 'max_leaf_nodes': 99.0, 'n_estimators': 20.0, 'max_depth': 27.0, 'min_samples_leaf': 4.0}\n",
      "{'min_samples_split': 10.0, 'max_leaf_nodes': 96.0, 'n_estimators': 17.0, 'max_depth': 27.0, 'min_samples_leaf': 6.0}\n",
      "{'min_samples_split': 10.0, 'max_leaf_nodes': 99.0, 'n_estimators': 18.0, 'max_depth': 26.0, 'min_samples_leaf': 4.0}\n",
      "{'min_samples_split': 10.0, 'max_leaf_nodes': 96.0, 'n_estimators': 20.0, 'max_depth': 28.0, 'min_samples_leaf': 6.0}\n",
      "{'min_samples_split': 10.0, 'max_leaf_nodes': 96.0, 'n_estimators': 19.0, 'max_depth': 27.0, 'min_samples_leaf': 8.0}\n",
      "{'min_samples_split': 8.0, 'max_leaf_nodes': 93.0, 'n_estimators': 19.0, 'max_depth': 26.0, 'min_samples_leaf': 4.0}\n",
      "{'min_samples_split': 10.0, 'max_leaf_nodes': 96.0, 'n_estimators': 20.0, 'max_depth': 27.0, 'min_samples_leaf': 6.0}\n",
      "{'min_samples_split': 8.0, 'max_leaf_nodes': 99.0, 'n_estimators': 19.0, 'max_depth': 27.0, 'min_samples_leaf': 4.0}\n",
      "{'min_samples_split': 10.0, 'max_leaf_nodes': 96.0, 'n_estimators': 18.0, 'max_depth': 28.0, 'min_samples_leaf': 4.0}\n",
      "{'min_samples_split': 10.0, 'max_leaf_nodes': 96.0, 'n_estimators': 20.0, 'max_depth': 29.0, 'min_samples_leaf': 6.0}\n",
      "{'min_samples_split': 10.0, 'max_leaf_nodes': 96.0, 'n_estimators': 19.0, 'max_depth': 26.0, 'min_samples_leaf': 4.0}\n",
      "{'min_samples_split': 10.0, 'max_leaf_nodes': 96.0, 'n_estimators': 20.0, 'max_depth': 27.0, 'min_samples_leaf': 4.0}\n",
      "{'min_samples_split': 10.0, 'max_leaf_nodes': 93.0, 'n_estimators': 18.0, 'max_depth': 28.0, 'min_samples_leaf': 6.0}\n",
      "{'min_samples_split': 8.0, 'max_leaf_nodes': 96.0, 'n_estimators': 20.0, 'max_depth': 26.0, 'min_samples_leaf': 4.0}\n",
      "{'min_samples_split': 10.0, 'max_leaf_nodes': 99.0, 'n_estimators': 17.0, 'max_depth': 30.0, 'min_samples_leaf': 8.0}\n",
      "{'min_samples_split': 10.0, 'max_leaf_nodes': 99.0, 'n_estimators': 16.0, 'max_depth': 30.0, 'min_samples_leaf': 8.0}\n",
      "{'min_samples_split': 10.0, 'max_leaf_nodes': 99.0, 'n_estimators': 17.0, 'max_depth': 30.0, 'min_samples_leaf': 8.0}\n",
      "{'min_samples_split': 10.0, 'max_leaf_nodes': 99.0, 'n_estimators': 16.0, 'max_depth': 27.0, 'min_samples_leaf': 8.0}\n",
      "{'min_samples_split': 10.0, 'max_leaf_nodes': 99.0, 'n_estimators': 17.0, 'max_depth': 28.0, 'min_samples_leaf': 8.0}\n",
      "{'min_samples_split': 8.0, 'max_leaf_nodes': 99.0, 'n_estimators': 16.0, 'max_depth': 29.0, 'min_samples_leaf': 8.0}\n",
      "{'min_samples_split': 8.0, 'max_leaf_nodes': 99.0, 'n_estimators': 17.0, 'max_depth': 29.0, 'min_samples_leaf': 8.0}\n",
      "{'min_samples_split': 10.0, 'max_leaf_nodes': 96.0, 'n_estimators': 16.0, 'max_depth': 27.0, 'min_samples_leaf': 8.0}\n",
      "{'min_samples_split': 10.0, 'max_leaf_nodes': 99.0, 'n_estimators': 17.0, 'max_depth': 30.0, 'min_samples_leaf': 8.0}\n",
      "{'min_samples_split': 10.0, 'max_leaf_nodes': 96.0, 'n_estimators': 17.0, 'max_depth': 30.0, 'min_samples_leaf': 8.0}\n",
      "{'min_samples_split': 10.0, 'max_leaf_nodes': 96.0, 'n_estimators': 17.0, 'max_depth': 30.0, 'min_samples_leaf': 8.0}\n",
      "{'min_samples_split': 10.0, 'max_leaf_nodes': 96.0, 'n_estimators': 17.0, 'max_depth': 27.0, 'min_samples_leaf': 8.0}\n",
      "{'min_samples_split': 10.0, 'max_leaf_nodes': 99.0, 'n_estimators': 17.0, 'max_depth': 29.0, 'min_samples_leaf': 8.0}\n",
      "{'min_samples_split': 10.0, 'max_leaf_nodes': 96.0, 'n_estimators': 17.0, 'max_depth': 27.0, 'min_samples_leaf': 8.0}\n",
      "{'min_samples_split': 10.0, 'max_leaf_nodes': 93.0, 'n_estimators': 17.0, 'max_depth': 27.0, 'min_samples_leaf': 4.0}\n",
      "{'min_samples_split': 10.0, 'max_leaf_nodes': 96.0, 'n_estimators': 16.0, 'max_depth': 30.0, 'min_samples_leaf': 8.0}\n",
      "{'min_samples_split': 10.0, 'max_leaf_nodes': 99.0, 'n_estimators': 16.0, 'max_depth': 28.0, 'min_samples_leaf': 4.0}\n",
      "{'min_samples_split': 10.0, 'max_leaf_nodes': 96.0, 'n_estimators': 17.0, 'max_depth': 27.0, 'min_samples_leaf': 4.0}\n",
      "{'min_samples_split': 10.0, 'max_leaf_nodes': 96.0, 'n_estimators': 17.0, 'max_depth': 26.0, 'min_samples_leaf': 4.0}\n",
      "{'min_samples_split': 10.0, 'max_leaf_nodes': 93.0, 'n_estimators': 18.0, 'max_depth': 27.0, 'min_samples_leaf': 8.0}\n",
      "{'min_samples_split': 10.0, 'max_leaf_nodes': 96.0, 'n_estimators': 17.0, 'max_depth': 29.0, 'min_samples_leaf': 4.0}\n",
      "{'min_samples_split': 10.0, 'max_leaf_nodes': 99.0, 'n_estimators': 16.0, 'max_depth': 28.0, 'min_samples_leaf': 4.0}\n",
      "{'min_samples_split': 10.0, 'max_leaf_nodes': 96.0, 'n_estimators': 18.0, 'max_depth': 27.0, 'min_samples_leaf': 4.0}\n",
      "{'min_samples_split': 10.0, 'max_leaf_nodes': 96.0, 'n_estimators': 18.0, 'max_depth': 26.0, 'min_samples_leaf': 4.0}\n",
      "{'min_samples_split': 10.0, 'max_leaf_nodes': 93.0, 'n_estimators': 17.0, 'max_depth': 27.0, 'min_samples_leaf': 8.0}\n",
      "{'min_samples_split': 10.0, 'max_leaf_nodes': 90.0, 'n_estimators': 18.0, 'max_depth': 28.0, 'min_samples_leaf': 4.0}\n",
      "{'min_samples_split': 10.0, 'max_leaf_nodes': 96.0, 'n_estimators': 19.0, 'max_depth': 27.0, 'min_samples_leaf': 4.0}\n",
      "{'min_samples_split': 10.0, 'max_leaf_nodes': 99.0, 'n_estimators': 17.0, 'max_depth': 28.0, 'min_samples_leaf': 4.0}\n",
      "{'min_samples_split': 10.0, 'max_leaf_nodes': 96.0, 'n_estimators': 18.0, 'max_depth': 30.0, 'min_samples_leaf': 8.0}\n",
      "{'min_samples_split': 10.0, 'max_leaf_nodes': 96.0, 'n_estimators': 19.0, 'max_depth': 26.0, 'min_samples_leaf': 4.0}\n",
      "{'min_samples_split': 10.0, 'max_leaf_nodes': 96.0, 'n_estimators': 19.0, 'max_depth': 29.0, 'min_samples_leaf': 4.0}\n"
     ]
    },
    {
     "name": "stdout",
     "output_type": "stream",
     "text": [
      "{'min_samples_split': 10.0, 'max_leaf_nodes': 93.0, 'n_estimators': 18.0, 'max_depth': 27.0, 'min_samples_leaf': 4.0}\n",
      "{'min_samples_split': 10.0, 'max_leaf_nodes': 99.0, 'n_estimators': 15.0, 'max_depth': 26.0, 'min_samples_leaf': 8.0}\n",
      "{'min_samples_split': 10.0, 'max_leaf_nodes': 96.0, 'n_estimators': 19.0, 'max_depth': 27.0, 'min_samples_leaf': 4.0}\n",
      "{'min_samples_split': 10.0, 'max_leaf_nodes': 96.0, 'n_estimators': 20.0, 'max_depth': 28.0, 'min_samples_leaf': 4.0}\n",
      "{'min_samples_split': 10.0, 'max_leaf_nodes': 96.0, 'n_estimators': 16.0, 'max_depth': 27.0, 'min_samples_leaf': 4.0}\n",
      "{'min_samples_split': 10.0, 'max_leaf_nodes': 99.0, 'n_estimators': 17.0, 'max_depth': 26.0, 'min_samples_leaf': 6.0}\n",
      "{'min_samples_split': 10.0, 'max_leaf_nodes': 96.0, 'n_estimators': 19.0, 'max_depth': 29.0, 'min_samples_leaf': 4.0}\n",
      "{'min_samples_split': 10.0, 'max_leaf_nodes': 96.0, 'n_estimators': 18.0, 'max_depth': 28.0, 'min_samples_leaf': 8.0}\n",
      "{'min_samples_split': 10.0, 'max_leaf_nodes': 93.0, 'n_estimators': 20.0, 'max_depth': 27.0, 'min_samples_leaf': 4.0}\n",
      "{'min_samples_split': 10.0, 'max_leaf_nodes': 99.0, 'n_estimators': 17.0, 'max_depth': 27.0, 'min_samples_leaf': 6.0}\n",
      "{'min_samples_split': 10.0, 'max_leaf_nodes': 96.0, 'n_estimators': 19.0, 'max_depth': 25.0, 'min_samples_leaf': 4.0}\n",
      "{'min_samples_split': 8.0, 'max_leaf_nodes': 96.0, 'n_estimators': 18.0, 'max_depth': 28.0, 'min_samples_leaf': 8.0}\n",
      "{'min_samples_split': 10.0, 'max_leaf_nodes': 93.0, 'n_estimators': 19.0, 'max_depth': 26.0, 'min_samples_leaf': 4.0}\n",
      "{'min_samples_split': 10.0, 'max_leaf_nodes': 96.0, 'n_estimators': 20.0, 'max_depth': 30.0, 'min_samples_leaf': 6.0}\n",
      "{'min_samples_split': 10.0, 'max_leaf_nodes': 96.0, 'n_estimators': 16.0, 'max_depth': 27.0, 'min_samples_leaf': 4.0}\n",
      "{'min_samples_split': 10.0, 'max_leaf_nodes': 90.0, 'n_estimators': 19.0, 'max_depth': 28.0, 'min_samples_leaf': 6.0}\n",
      "{'min_samples_split': 8.0, 'max_leaf_nodes': 99.0, 'n_estimators': 18.0, 'max_depth': 27.0, 'min_samples_leaf': 4.0}\n",
      "{'min_samples_split': 10.0, 'max_leaf_nodes': 96.0, 'n_estimators': 20.0, 'max_depth': 25.0, 'min_samples_leaf': 8.0}\n",
      "{'min_samples_split': 10.0, 'max_leaf_nodes': 99.0, 'n_estimators': 20.0, 'max_depth': 26.0, 'min_samples_leaf': 4.0}\n",
      "{'min_samples_split': 12.0, 'max_leaf_nodes': 93.0, 'n_estimators': 17.0, 'max_depth': 29.0, 'min_samples_leaf': 6.0}\n",
      "{'min_samples_split': 10.0, 'max_leaf_nodes': 96.0, 'n_estimators': 18.0, 'max_depth': 27.0, 'min_samples_leaf': 4.0}\n",
      "{'min_samples_split': 10.0, 'max_leaf_nodes': 96.0, 'n_estimators': 19.0, 'max_depth': 26.0, 'min_samples_leaf': 6.0}\n",
      "{'min_samples_split': 8.0, 'max_leaf_nodes': 96.0, 'n_estimators': 19.0, 'max_depth': 28.0, 'min_samples_leaf': 4.0}\n",
      "{'min_samples_split': 10.0, 'max_leaf_nodes': 99.0, 'n_estimators': 17.0, 'max_depth': 27.0, 'min_samples_leaf': 4.0}\n",
      "{'min_samples_split': 12.0, 'max_leaf_nodes': 93.0, 'n_estimators': 20.0, 'max_depth': 27.0, 'min_samples_leaf': 8.0}\n",
      "{'min_samples_split': 10.0, 'max_leaf_nodes': 96.0, 'n_estimators': 19.0, 'max_depth': 29.0, 'min_samples_leaf': 4.0}\n",
      "{'min_samples_split': 10.0, 'max_leaf_nodes': 96.0, 'n_estimators': 20.0, 'max_depth': 26.0, 'min_samples_leaf': 6.0}\n",
      "{'min_samples_split': 10.0, 'max_leaf_nodes': 96.0, 'n_estimators': 18.0, 'max_depth': 28.0, 'min_samples_leaf': 4.0}\n",
      "{'min_samples_split': 8.0, 'max_leaf_nodes': 93.0, 'n_estimators': 19.0, 'max_depth': 27.0, 'min_samples_leaf': 6.0}\n",
      "{'min_samples_split': 10.0, 'max_leaf_nodes': 96.0, 'n_estimators': 18.0, 'max_depth': 30.0, 'min_samples_leaf': 4.0}\n",
      "{'min_samples_split': 12.0, 'max_leaf_nodes': 99.0, 'n_estimators': 17.0, 'max_depth': 25.0, 'min_samples_leaf': 8.0}\n",
      "{'min_samples_split': 10.0, 'max_leaf_nodes': 96.0, 'n_estimators': 20.0, 'max_depth': 28.0, 'min_samples_leaf': 4.0}\n",
      "{'min_samples_split': 10.0, 'max_leaf_nodes': 96.0, 'n_estimators': 19.0, 'max_depth': 27.0, 'min_samples_leaf': 6.0}\n",
      "{'min_samples_split': 10.0, 'max_leaf_nodes': 99.0, 'n_estimators': 16.0, 'max_depth': 26.0, 'min_samples_leaf': 4.0}\n",
      "{'min_samples_split': 12.0, 'max_leaf_nodes': 96.0, 'n_estimators': 18.0, 'max_depth': 28.0, 'min_samples_leaf': 4.0}\n",
      "{'min_samples_split': 8.0, 'max_leaf_nodes': 96.0, 'n_estimators': 19.0, 'max_depth': 27.0, 'min_samples_leaf': 8.0}\n",
      "{'min_samples_split': 12.0, 'max_leaf_nodes': 90.0, 'n_estimators': 20.0, 'max_depth': 26.0, 'min_samples_leaf': 6.0}\n",
      "{'min_samples_split': 10.0, 'max_leaf_nodes': 93.0, 'n_estimators': 18.0, 'max_depth': 27.0, 'min_samples_leaf': 4.0}\n",
      "{'min_samples_split': 10.0, 'max_leaf_nodes': 96.0, 'n_estimators': 17.0, 'max_depth': 25.0, 'min_samples_leaf': 8.0}\n",
      "{'min_samples_split': 10.0, 'max_leaf_nodes': 96.0, 'n_estimators': 19.0, 'max_depth': 27.0, 'min_samples_leaf': 4.0}\n",
      "{'min_samples_split': 10.0, 'max_leaf_nodes': 96.0, 'n_estimators': 19.0, 'max_depth': 27.0, 'min_samples_leaf': 4.0}\n",
      "{'min_samples_split': 10.0, 'max_leaf_nodes': 99.0, 'n_estimators': 20.0, 'max_depth': 27.0, 'min_samples_leaf': 4.0}\n",
      "{'min_samples_split': 10.0, 'max_leaf_nodes': 96.0, 'n_estimators': 19.0, 'max_depth': 27.0, 'min_samples_leaf': 4.0}\n",
      "{'min_samples_split': 12.0, 'max_leaf_nodes': 96.0, 'n_estimators': 19.0, 'max_depth': 27.0, 'min_samples_leaf': 4.0}\n",
      "{'min_samples_split': 8.0, 'max_leaf_nodes': 96.0, 'n_estimators': 19.0, 'max_depth': 27.0, 'min_samples_leaf': 6.0}\n",
      "{'min_samples_split': 10.0, 'max_leaf_nodes': 99.0, 'n_estimators': 15.0, 'max_depth': 27.0, 'min_samples_leaf': 4.0}\n",
      "{'min_samples_split': 10.0, 'max_leaf_nodes': 93.0, 'n_estimators': 19.0, 'max_depth': 30.0, 'min_samples_leaf': 6.0}\n",
      "{'min_samples_split': 10.0, 'max_leaf_nodes': 93.0, 'n_estimators': 19.0, 'max_depth': 26.0, 'min_samples_leaf': 8.0}\n",
      "{'min_samples_split': 12.0, 'max_leaf_nodes': 99.0, 'n_estimators': 20.0, 'max_depth': 29.0, 'min_samples_leaf': 6.0}\n",
      "{'min_samples_split': 10.0, 'max_leaf_nodes': 96.0, 'n_estimators': 17.0, 'max_depth': 28.0, 'min_samples_leaf': 4.0}\n",
      "{'min_samples_split': 8.0, 'max_leaf_nodes': 96.0, 'n_estimators': 18.0, 'max_depth': 26.0, 'min_samples_leaf': 6.0}\n",
      "{'min_samples_split': 10.0, 'max_leaf_nodes': 96.0, 'n_estimators': 19.0, 'max_depth': 28.0, 'min_samples_leaf': 4.0}\n",
      "{'min_samples_split': 10.0, 'max_leaf_nodes': 96.0, 'n_estimators': 20.0, 'max_depth': 27.0, 'min_samples_leaf': 4.0}\n",
      "{'min_samples_split': 10.0, 'max_leaf_nodes': 96.0, 'n_estimators': 20.0, 'max_depth': 27.0, 'min_samples_leaf': 4.0}\n",
      "{'min_samples_split': 12.0, 'max_leaf_nodes': 99.0, 'n_estimators': 18.0, 'max_depth': 25.0, 'min_samples_leaf': 8.0}\n",
      "{'min_samples_split': 8.0, 'max_leaf_nodes': 90.0, 'n_estimators': 16.0, 'max_depth': 26.0, 'min_samples_leaf': 8.0}\n",
      "{'min_samples_split': 10.0, 'max_leaf_nodes': 93.0, 'n_estimators': 19.0, 'max_depth': 30.0, 'min_samples_leaf': 6.0}\n",
      "{'min_samples_split': 12.0, 'max_leaf_nodes': 96.0, 'n_estimators': 17.0, 'max_depth': 29.0, 'min_samples_leaf': 4.0}\n",
      "{'min_samples_split': 10.0, 'max_leaf_nodes': 96.0, 'n_estimators': 19.0, 'max_depth': 28.0, 'min_samples_leaf': 6.0}\n",
      "{'min_samples_split': 10.0, 'max_leaf_nodes': 93.0, 'n_estimators': 19.0, 'max_depth': 26.0, 'min_samples_leaf': 4.0}\n",
      "{'min_samples_split': 10.0, 'max_leaf_nodes': 99.0, 'n_estimators': 20.0, 'max_depth': 27.0, 'min_samples_leaf': 4.0}\n",
      "{'min_samples_split': 10.0, 'max_leaf_nodes': 96.0, 'n_estimators': 20.0, 'max_depth': 27.0, 'min_samples_leaf': 4.0}\n",
      "{'min_samples_split': 8.0, 'max_leaf_nodes': 96.0, 'n_estimators': 19.0, 'max_depth': 27.0, 'min_samples_leaf': 4.0}\n",
      "{'min_samples_split': 10.0, 'max_leaf_nodes': 96.0, 'n_estimators': 18.0, 'max_depth': 27.0, 'min_samples_leaf': 4.0}\n",
      "{'min_samples_split': 12.0, 'max_leaf_nodes': 99.0, 'n_estimators': 18.0, 'max_depth': 25.0, 'min_samples_leaf': 6.0}\n",
      "{'min_samples_split': 10.0, 'max_leaf_nodes': 93.0, 'n_estimators': 19.0, 'max_depth': 28.0, 'min_samples_leaf': 8.0}\n",
      "{'min_samples_split': 10.0, 'max_leaf_nodes': 96.0, 'n_estimators': 17.0, 'max_depth': 27.0, 'min_samples_leaf': 4.0}\n",
      "{'min_samples_split': 10.0, 'max_leaf_nodes': 99.0, 'n_estimators': 17.0, 'max_depth': 27.0, 'min_samples_leaf': 4.0}\n",
      "{'min_samples_split': 12.0, 'max_leaf_nodes': 96.0, 'n_estimators': 20.0, 'max_depth': 26.0, 'min_samples_leaf': 4.0}\n",
      "{'min_samples_split': 10.0, 'max_leaf_nodes': 96.0, 'n_estimators': 19.0, 'max_depth': 28.0, 'min_samples_leaf': 6.0}\n"
     ]
    },
    {
     "name": "stdout",
     "output_type": "stream",
     "text": [
      "{'min_samples_split': 8.0, 'max_leaf_nodes': 93.0, 'n_estimators': 16.0, 'max_depth': 30.0, 'min_samples_leaf': 6.0}\n",
      "{'min_samples_split': 10.0, 'max_leaf_nodes': 96.0, 'n_estimators': 19.0, 'max_depth': 29.0, 'min_samples_leaf': 8.0}\n",
      "{'min_samples_split': 10.0, 'max_leaf_nodes': 96.0, 'n_estimators': 18.0, 'max_depth': 27.0, 'min_samples_leaf': 4.0}\n",
      "{'min_samples_split': 10.0, 'max_leaf_nodes': 99.0, 'n_estimators': 20.0, 'max_depth': 27.0, 'min_samples_leaf': 4.0}\n",
      "{'min_samples_split': 12.0, 'max_leaf_nodes': 96.0, 'n_estimators': 20.0, 'max_depth': 26.0, 'min_samples_leaf': 4.0}\n",
      "{'min_samples_split': 10.0, 'max_leaf_nodes': 96.0, 'n_estimators': 17.0, 'max_depth': 27.0, 'min_samples_leaf': 4.0}\n",
      "{'min_samples_split': 10.0, 'max_leaf_nodes': 99.0, 'n_estimators': 19.0, 'max_depth': 26.0, 'min_samples_leaf': 6.0}\n",
      "{'min_samples_split': 10.0, 'max_leaf_nodes': 93.0, 'n_estimators': 19.0, 'max_depth': 25.0, 'min_samples_leaf': 8.0}\n",
      "{'min_samples_split': 10.0, 'max_leaf_nodes': 96.0, 'n_estimators': 18.0, 'max_depth': 27.0, 'min_samples_leaf': 4.0}\n",
      "{'min_samples_split': 10.0, 'max_leaf_nodes': 99.0, 'n_estimators': 20.0, 'max_depth': 27.0, 'min_samples_leaf': 4.0}\n",
      "{'min_samples_split': 10.0, 'max_leaf_nodes': 96.0, 'n_estimators': 18.0, 'max_depth': 27.0, 'min_samples_leaf': 4.0}\n",
      "{'min_samples_split': 12.0, 'max_leaf_nodes': 96.0, 'n_estimators': 19.0, 'max_depth': 28.0, 'min_samples_leaf': 6.0}\n",
      "{'min_samples_split': 10.0, 'max_leaf_nodes': 93.0, 'n_estimators': 17.0, 'max_depth': 27.0, 'min_samples_leaf': 4.0}\n",
      "{'min_samples_split': 10.0, 'max_leaf_nodes': 96.0, 'n_estimators': 20.0, 'max_depth': 27.0, 'min_samples_leaf': 4.0}\n",
      "{'min_samples_split': 12.0, 'max_leaf_nodes': 96.0, 'n_estimators': 20.0, 'max_depth': 26.0, 'min_samples_leaf': 6.0}\n",
      "{'min_samples_split': 8.0, 'max_leaf_nodes': 96.0, 'n_estimators': 19.0, 'max_depth': 26.0, 'min_samples_leaf': 4.0}\n",
      "{'min_samples_split': 8.0, 'max_leaf_nodes': 99.0, 'n_estimators': 19.0, 'max_depth': 29.0, 'min_samples_leaf': 8.0}\n",
      "{'min_samples_split': 10.0, 'max_leaf_nodes': 96.0, 'n_estimators': 18.0, 'max_depth': 25.0, 'min_samples_leaf': 6.0}\n",
      "{'min_samples_split': 10.0, 'max_leaf_nodes': 93.0, 'n_estimators': 16.0, 'max_depth': 27.0, 'min_samples_leaf': 4.0}\n",
      "{'min_samples_split': 10.0, 'max_leaf_nodes': 99.0, 'n_estimators': 17.0, 'max_depth': 28.0, 'min_samples_leaf': 4.0}\n",
      "{'min_samples_split': 10.0, 'max_leaf_nodes': 96.0, 'n_estimators': 18.0, 'max_depth': 27.0, 'min_samples_leaf': 4.0}\n",
      "{'min_samples_split': 12.0, 'max_leaf_nodes': 93.0, 'n_estimators': 20.0, 'max_depth': 28.0, 'min_samples_leaf': 8.0}\n",
      "{'min_samples_split': 12.0, 'max_leaf_nodes': 96.0, 'n_estimators': 19.0, 'max_depth': 28.0, 'min_samples_leaf': 8.0}\n",
      "{'min_samples_split': 10.0, 'max_leaf_nodes': 99.0, 'n_estimators': 18.0, 'max_depth': 30.0, 'min_samples_leaf': 6.0}\n",
      "{'min_samples_split': 8.0, 'max_leaf_nodes': 96.0, 'n_estimators': 20.0, 'max_depth': 26.0, 'min_samples_leaf': 6.0}\n",
      "{'min_samples_split': 8.0, 'max_leaf_nodes': 96.0, 'n_estimators': 19.0, 'max_depth': 26.0, 'min_samples_leaf': 4.0}\n",
      "{'min_samples_split': 10.0, 'max_leaf_nodes': 90.0, 'n_estimators': 19.0, 'max_depth': 26.0, 'min_samples_leaf': 4.0}\n",
      "{'min_samples_split': 8.0, 'max_leaf_nodes': 96.0, 'n_estimators': 19.0, 'max_depth': 25.0, 'min_samples_leaf': 4.0}\n",
      "{'min_samples_split': 8.0, 'max_leaf_nodes': 96.0, 'n_estimators': 19.0, 'max_depth': 25.0, 'min_samples_leaf': 6.0}\n",
      "{'min_samples_split': 10.0, 'max_leaf_nodes': 96.0, 'n_estimators': 20.0, 'max_depth': 27.0, 'min_samples_leaf': 4.0}\n",
      "{'min_samples_split': 8.0, 'max_leaf_nodes': 96.0, 'n_estimators': 19.0, 'max_depth': 25.0, 'min_samples_leaf': 6.0}\n",
      "{'min_samples_split': 8.0, 'max_leaf_nodes': 96.0, 'n_estimators': 19.0, 'max_depth': 25.0, 'min_samples_leaf': 4.0}\n",
      "{'min_samples_split': 10.0, 'max_leaf_nodes': 93.0, 'n_estimators': 16.0, 'max_depth': 26.0, 'min_samples_leaf': 4.0}\n",
      "{'min_samples_split': 12.0, 'max_leaf_nodes': 99.0, 'n_estimators': 15.0, 'max_depth': 28.0, 'min_samples_leaf': 8.0}\n",
      "{'min_samples_split': 10.0, 'max_leaf_nodes': 96.0, 'n_estimators': 17.0, 'max_depth': 27.0, 'min_samples_leaf': 4.0}\n",
      "{'min_samples_split': 10.0, 'max_leaf_nodes': 99.0, 'n_estimators': 18.0, 'max_depth': 26.0, 'min_samples_leaf': 4.0}\n",
      "{'min_samples_split': 10.0, 'max_leaf_nodes': 93.0, 'n_estimators': 18.0, 'max_depth': 29.0, 'min_samples_leaf': 8.0}\n",
      "{'min_samples_split': 12.0, 'max_leaf_nodes': 96.0, 'n_estimators': 20.0, 'max_depth': 27.0, 'min_samples_leaf': 6.0}\n",
      "{'min_samples_split': 10.0, 'max_leaf_nodes': 96.0, 'n_estimators': 20.0, 'max_depth': 27.0, 'min_samples_leaf': 6.0}\n",
      "{'min_samples_split': 8.0, 'max_leaf_nodes': 99.0, 'n_estimators': 19.0, 'max_depth': 25.0, 'min_samples_leaf': 8.0}\n",
      "{'min_samples_split': 8.0, 'max_leaf_nodes': 96.0, 'n_estimators': 19.0, 'max_depth': 25.0, 'min_samples_leaf': 4.0}\n",
      "{'min_samples_split': 10.0, 'max_leaf_nodes': 93.0, 'n_estimators': 17.0, 'max_depth': 27.0, 'min_samples_leaf': 4.0}\n",
      "{'min_samples_split': 10.0, 'max_leaf_nodes': 96.0, 'n_estimators': 20.0, 'max_depth': 26.0, 'min_samples_leaf': 4.0}\n",
      "{'min_samples_split': 12.0, 'max_leaf_nodes': 90.0, 'n_estimators': 18.0, 'max_depth': 28.0, 'min_samples_leaf': 6.0}\n",
      "{'min_samples_split': 10.0, 'max_leaf_nodes': 96.0, 'n_estimators': 20.0, 'max_depth': 26.0, 'min_samples_leaf': 4.0}\n",
      "{'min_samples_split': 10.0, 'max_leaf_nodes': 96.0, 'n_estimators': 20.0, 'max_depth': 26.0, 'min_samples_leaf': 4.0}\n",
      "{'min_samples_split': 8.0, 'max_leaf_nodes': 99.0, 'n_estimators': 18.0, 'max_depth': 25.0, 'min_samples_leaf': 8.0}\n",
      "{'min_samples_split': 10.0, 'max_leaf_nodes': 96.0, 'n_estimators': 17.0, 'max_depth': 27.0, 'min_samples_leaf': 4.0}\n",
      "{'min_samples_split': 12.0, 'max_leaf_nodes': 93.0, 'n_estimators': 19.0, 'max_depth': 30.0, 'min_samples_leaf': 6.0}\n",
      "{'min_samples_split': 10.0, 'max_leaf_nodes': 99.0, 'n_estimators': 19.0, 'max_depth': 29.0, 'min_samples_leaf': 6.0}\n",
      "{'min_samples_split': 8.0, 'max_leaf_nodes': 96.0, 'n_estimators': 19.0, 'max_depth': 25.0, 'min_samples_leaf': 4.0}\n",
      "{'min_samples_split': 8.0, 'max_leaf_nodes': 96.0, 'n_estimators': 19.0, 'max_depth': 26.0, 'min_samples_leaf': 4.0}\n",
      "{'min_samples_split': 8.0, 'max_leaf_nodes': 96.0, 'n_estimators': 19.0, 'max_depth': 25.0, 'min_samples_leaf': 4.0}\n",
      "{'min_samples_split': 10.0, 'max_leaf_nodes': 96.0, 'n_estimators': 19.0, 'max_depth': 25.0, 'min_samples_leaf': 4.0}\n",
      "{'min_samples_split': 10.0, 'max_leaf_nodes': 96.0, 'n_estimators': 19.0, 'max_depth': 26.0, 'min_samples_leaf': 4.0}\n",
      "{'min_samples_split': 10.0, 'max_leaf_nodes': 96.0, 'n_estimators': 20.0, 'max_depth': 27.0, 'min_samples_leaf': 4.0}\n",
      "{'min_samples_split': 8.0, 'max_leaf_nodes': 96.0, 'n_estimators': 19.0, 'max_depth': 26.0, 'min_samples_leaf': 4.0}\n",
      "{'min_samples_split': 10.0, 'max_leaf_nodes': 96.0, 'n_estimators': 20.0, 'max_depth': 27.0, 'min_samples_leaf': 4.0}\n",
      "{'min_samples_split': 10.0, 'max_leaf_nodes': 96.0, 'n_estimators': 20.0, 'max_depth': 27.0, 'min_samples_leaf': 4.0}\n",
      "{'min_samples_split': 10.0, 'max_leaf_nodes': 96.0, 'n_estimators': 20.0, 'max_depth': 27.0, 'min_samples_leaf': 4.0}\n",
      "{'min_samples_split': 10.0, 'max_leaf_nodes': 96.0, 'n_estimators': 18.0, 'max_depth': 27.0, 'min_samples_leaf': 4.0}\n",
      "{'min_samples_split': 8.0, 'max_leaf_nodes': 96.0, 'n_estimators': 19.0, 'max_depth': 26.0, 'min_samples_leaf': 4.0}\n",
      "{'min_samples_split': 10.0, 'max_leaf_nodes': 96.0, 'n_estimators': 19.0, 'max_depth': 28.0, 'min_samples_leaf': 4.0}\n",
      "{'min_samples_split': 10.0, 'max_leaf_nodes': 96.0, 'n_estimators': 20.0, 'max_depth': 27.0, 'min_samples_leaf': 4.0}\n",
      "{'min_samples_split': 10.0, 'max_leaf_nodes': 96.0, 'n_estimators': 18.0, 'max_depth': 27.0, 'min_samples_leaf': 4.0}\n",
      "{'min_samples_split': 10.0, 'max_leaf_nodes': 96.0, 'n_estimators': 19.0, 'max_depth': 27.0, 'min_samples_leaf': 4.0}\n",
      "{'min_samples_split': 10.0, 'max_leaf_nodes': 96.0, 'n_estimators': 20.0, 'max_depth': 28.0, 'min_samples_leaf': 4.0}\n",
      "{'min_samples_split': 10.0, 'max_leaf_nodes': 96.0, 'n_estimators': 17.0, 'max_depth': 27.0, 'min_samples_leaf': 4.0}\n",
      "{'min_samples_split': 10.0, 'max_leaf_nodes': 96.0, 'n_estimators': 19.0, 'max_depth': 27.0, 'min_samples_leaf': 4.0}\n",
      "{'min_samples_split': 10.0, 'max_leaf_nodes': 96.0, 'n_estimators': 18.0, 'max_depth': 28.0, 'min_samples_leaf': 4.0}\n"
     ]
    },
    {
     "name": "stdout",
     "output_type": "stream",
     "text": [
      "{'min_samples_split': 10.0, 'max_leaf_nodes': 96.0, 'n_estimators': 19.0, 'max_depth': 27.0, 'min_samples_leaf': 4.0}\n",
      "{'min_samples_split': 8.0, 'max_leaf_nodes': 96.0, 'n_estimators': 19.0, 'max_depth': 25.0, 'min_samples_leaf': 4.0}\n",
      "{'min_samples_split': 8.0, 'max_leaf_nodes': 96.0, 'n_estimators': 20.0, 'max_depth': 26.0, 'min_samples_leaf': 4.0}\n",
      "{'min_samples_split': 10.0, 'max_leaf_nodes': 96.0, 'n_estimators': 19.0, 'max_depth': 25.0, 'min_samples_leaf': 4.0}\n",
      "{'min_samples_split': 8.0, 'max_leaf_nodes': 96.0, 'n_estimators': 18.0, 'max_depth': 26.0, 'min_samples_leaf': 4.0}\n",
      "{'min_samples_split': 12.0, 'max_leaf_nodes': 96.0, 'n_estimators': 20.0, 'max_depth': 25.0, 'min_samples_leaf': 4.0}\n",
      "{'min_samples_split': 10.0, 'max_leaf_nodes': 96.0, 'n_estimators': 17.0, 'max_depth': 26.0, 'min_samples_leaf': 4.0}\n",
      "{'min_samples_split': 10.0, 'max_leaf_nodes': 96.0, 'n_estimators': 19.0, 'max_depth': 25.0, 'min_samples_leaf': 4.0}\n",
      "{'min_samples_split': 10.0, 'max_leaf_nodes': 96.0, 'n_estimators': 20.0, 'max_depth': 27.0, 'min_samples_leaf': 4.0}\n",
      "{'min_samples_split': 10.0, 'max_leaf_nodes': 96.0, 'n_estimators': 18.0, 'max_depth': 27.0, 'min_samples_leaf': 4.0}\n",
      "{'min_samples_split': 10.0, 'max_leaf_nodes': 96.0, 'n_estimators': 20.0, 'max_depth': 27.0, 'min_samples_leaf': 4.0}\n",
      "{'min_samples_split': 8.0, 'max_leaf_nodes': 96.0, 'n_estimators': 19.0, 'max_depth': 26.0, 'min_samples_leaf': 4.0}\n",
      "{'min_samples_split': 12.0, 'max_leaf_nodes': 96.0, 'n_estimators': 19.0, 'max_depth': 26.0, 'min_samples_leaf': 4.0}\n",
      "{'min_samples_split': 10.0, 'max_leaf_nodes': 96.0, 'n_estimators': 17.0, 'max_depth': 25.0, 'min_samples_leaf': 4.0}\n",
      "{'min_samples_split': 10.0, 'max_leaf_nodes': 96.0, 'n_estimators': 19.0, 'max_depth': 26.0, 'min_samples_leaf': 4.0}\n",
      "{'min_samples_split': 8.0, 'max_leaf_nodes': 96.0, 'n_estimators': 19.0, 'max_depth': 26.0, 'min_samples_leaf': 6.0}\n",
      "{'min_samples_split': 12.0, 'max_leaf_nodes': 96.0, 'n_estimators': 19.0, 'max_depth': 26.0, 'min_samples_leaf': 6.0}\n",
      "{'min_samples_split': 10.0, 'max_leaf_nodes': 96.0, 'n_estimators': 19.0, 'max_depth': 27.0, 'min_samples_leaf': 4.0}\n",
      "{'min_samples_split': 10.0, 'max_leaf_nodes': 93.0, 'n_estimators': 18.0, 'max_depth': 27.0, 'min_samples_leaf': 4.0}\n",
      "{'min_samples_split': 10.0, 'max_leaf_nodes': 99.0, 'n_estimators': 20.0, 'max_depth': 27.0, 'min_samples_leaf': 4.0}\n",
      "{'min_samples_split': 10.0, 'max_leaf_nodes': 96.0, 'n_estimators': 17.0, 'max_depth': 28.0, 'min_samples_leaf': 8.0}\n",
      "{'min_samples_split': 8.0, 'max_leaf_nodes': 96.0, 'n_estimators': 19.0, 'max_depth': 25.0, 'min_samples_leaf': 4.0}\n",
      "{'min_samples_split': 8.0, 'max_leaf_nodes': 96.0, 'n_estimators': 20.0, 'max_depth': 25.0, 'min_samples_leaf': 4.0}\n",
      "{'min_samples_split': 10.0, 'max_leaf_nodes': 99.0, 'n_estimators': 18.0, 'max_depth': 28.0, 'min_samples_leaf': 4.0}\n",
      "{'min_samples_split': 8.0, 'max_leaf_nodes': 96.0, 'n_estimators': 19.0, 'max_depth': 25.0, 'min_samples_leaf': 6.0}\n",
      "{'min_samples_split': 8.0, 'max_leaf_nodes': 93.0, 'n_estimators': 18.0, 'max_depth': 26.0, 'min_samples_leaf': 4.0}\n",
      "{'min_samples_split': 8.0, 'max_leaf_nodes': 96.0, 'n_estimators': 16.0, 'max_depth': 26.0, 'min_samples_leaf': 4.0}\n",
      "{'min_samples_split': 8.0, 'max_leaf_nodes': 96.0, 'n_estimators': 20.0, 'max_depth': 26.0, 'min_samples_leaf': 4.0}\n",
      "{'min_samples_split': 12.0, 'max_leaf_nodes': 96.0, 'n_estimators': 17.0, 'max_depth': 25.0, 'min_samples_leaf': 8.0}\n",
      "{'min_samples_split': 12.0, 'max_leaf_nodes': 99.0, 'n_estimators': 20.0, 'max_depth': 25.0, 'min_samples_leaf': 6.0}\n",
      "{'min_samples_split': 8.0, 'max_leaf_nodes': 96.0, 'n_estimators': 19.0, 'max_depth': 27.0, 'min_samples_leaf': 4.0}\n",
      "{'min_samples_split': 8.0, 'max_leaf_nodes': 96.0, 'n_estimators': 19.0, 'max_depth': 25.0, 'min_samples_leaf': 6.0}\n",
      "{'min_samples_split': 10.0, 'max_leaf_nodes': 93.0, 'n_estimators': 18.0, 'max_depth': 25.0, 'min_samples_leaf': 4.0}\n",
      "{'min_samples_split': 8.0, 'max_leaf_nodes': 96.0, 'n_estimators': 19.0, 'max_depth': 25.0, 'min_samples_leaf': 6.0}\n",
      "{'min_samples_split': 8.0, 'max_leaf_nodes': 96.0, 'n_estimators': 19.0, 'max_depth': 25.0, 'min_samples_leaf': 4.0}\n",
      "{'min_samples_split': 10.0, 'max_leaf_nodes': 99.0, 'n_estimators': 20.0, 'max_depth': 28.0, 'min_samples_leaf': 4.0}\n",
      "{'min_samples_split': 10.0, 'max_leaf_nodes': 93.0, 'n_estimators': 18.0, 'max_depth': 28.0, 'min_samples_leaf': 4.0}\n",
      "{'min_samples_split': 8.0, 'max_leaf_nodes': 96.0, 'n_estimators': 19.0, 'max_depth': 25.0, 'min_samples_leaf': 6.0}\n",
      "{'min_samples_split': 8.0, 'max_leaf_nodes': 96.0, 'n_estimators': 19.0, 'max_depth': 27.0, 'min_samples_leaf': 4.0}\n",
      "{'min_samples_split': 8.0, 'max_leaf_nodes': 96.0, 'n_estimators': 19.0, 'max_depth': 27.0, 'min_samples_leaf': 4.0}\n",
      "{'min_samples_split': 8.0, 'max_leaf_nodes': 96.0, 'n_estimators': 19.0, 'max_depth': 25.0, 'min_samples_leaf': 6.0}\n",
      "{'min_samples_split': 8.0, 'max_leaf_nodes': 96.0, 'n_estimators': 19.0, 'max_depth': 26.0, 'min_samples_leaf': 4.0}\n",
      "{'min_samples_split': 10.0, 'max_leaf_nodes': 96.0, 'n_estimators': 20.0, 'max_depth': 27.0, 'min_samples_leaf': 6.0}\n",
      "{'min_samples_split': 8.0, 'max_leaf_nodes': 99.0, 'n_estimators': 17.0, 'max_depth': 26.0, 'min_samples_leaf': 4.0}\n",
      "{'min_samples_split': 10.0, 'max_leaf_nodes': 93.0, 'n_estimators': 19.0, 'max_depth': 25.0, 'min_samples_leaf': 4.0}\n",
      "{'min_samples_split': 10.0, 'max_leaf_nodes': 96.0, 'n_estimators': 19.0, 'max_depth': 25.0, 'min_samples_leaf': 8.0}\n",
      "{'min_samples_split': 12.0, 'max_leaf_nodes': 96.0, 'n_estimators': 20.0, 'max_depth': 27.0, 'min_samples_leaf': 6.0}\n",
      "{'min_samples_split': 10.0, 'max_leaf_nodes': 96.0, 'n_estimators': 20.0, 'max_depth': 27.0, 'min_samples_leaf': 4.0}\n",
      "{'min_samples_split': 10.0, 'max_leaf_nodes': 99.0, 'n_estimators': 18.0, 'max_depth': 28.0, 'min_samples_leaf': 4.0}\n",
      "{'min_samples_split': 10.0, 'max_leaf_nodes': 90.0, 'n_estimators': 17.0, 'max_depth': 28.0, 'min_samples_leaf': 4.0}\n",
      "{'min_samples_split': 8.0, 'max_leaf_nodes': 96.0, 'n_estimators': 19.0, 'max_depth': 26.0, 'min_samples_leaf': 4.0}\n",
      "{'min_samples_split': 10.0, 'max_leaf_nodes': 99.0, 'n_estimators': 19.0, 'max_depth': 30.0, 'min_samples_leaf': 8.0}\n",
      "{'min_samples_split': 8.0, 'max_leaf_nodes': 93.0, 'n_estimators': 16.0, 'max_depth': 26.0, 'min_samples_leaf': 4.0}\n",
      "{'min_samples_split': 8.0, 'max_leaf_nodes': 96.0, 'n_estimators': 18.0, 'max_depth': 26.0, 'min_samples_leaf': 4.0}\n",
      "{'min_samples_split': 8.0, 'max_leaf_nodes': 96.0, 'n_estimators': 20.0, 'max_depth': 27.0, 'min_samples_leaf': 4.0}\n",
      "{'min_samples_split': 8.0, 'max_leaf_nodes': 96.0, 'n_estimators': 18.0, 'max_depth': 26.0, 'min_samples_leaf': 4.0}\n",
      "{'min_samples_split': 8.0, 'max_leaf_nodes': 96.0, 'n_estimators': 20.0, 'max_depth': 25.0, 'min_samples_leaf': 6.0}\n",
      "{'min_samples_split': 8.0, 'max_leaf_nodes': 96.0, 'n_estimators': 20.0, 'max_depth': 25.0, 'min_samples_leaf': 6.0}\n",
      "{'min_samples_split': 10.0, 'max_leaf_nodes': 99.0, 'n_estimators': 17.0, 'max_depth': 26.0, 'min_samples_leaf': 4.0}\n",
      "{'min_samples_split': 10.0, 'max_leaf_nodes': 99.0, 'n_estimators': 15.0, 'max_depth': 26.0, 'min_samples_leaf': 4.0}\n",
      "{'min_samples_split': 8.0, 'max_leaf_nodes': 96.0, 'n_estimators': 19.0, 'max_depth': 25.0, 'min_samples_leaf': 6.0}\n",
      "{'min_samples_split': 10.0, 'max_leaf_nodes': 96.0, 'n_estimators': 19.0, 'max_depth': 27.0, 'min_samples_leaf': 4.0}\n",
      "{'min_samples_split': 10.0, 'max_leaf_nodes': 93.0, 'n_estimators': 17.0, 'max_depth': 26.0, 'min_samples_leaf': 4.0}\n",
      "{'min_samples_split': 10.0, 'max_leaf_nodes': 96.0, 'n_estimators': 18.0, 'max_depth': 26.0, 'min_samples_leaf': 4.0}\n",
      "{'min_samples_split': 8.0, 'max_leaf_nodes': 93.0, 'n_estimators': 20.0, 'max_depth': 27.0, 'min_samples_leaf': 4.0}\n",
      "{'min_samples_split': 10.0, 'max_leaf_nodes': 96.0, 'n_estimators': 16.0, 'max_depth': 26.0, 'min_samples_leaf': 4.0}\n",
      "{'min_samples_split': 10.0, 'max_leaf_nodes': 96.0, 'n_estimators': 19.0, 'max_depth': 27.0, 'min_samples_leaf': 4.0}\n",
      "{'min_samples_split': 10.0, 'max_leaf_nodes': 96.0, 'n_estimators': 18.0, 'max_depth': 28.0, 'min_samples_leaf': 4.0}\n",
      "{'min_samples_split': 10.0, 'max_leaf_nodes': 99.0, 'n_estimators': 20.0, 'max_depth': 26.0, 'min_samples_leaf': 4.0}\n",
      "{'min_samples_split': 12.0, 'max_leaf_nodes': 96.0, 'n_estimators': 19.0, 'max_depth': 29.0, 'min_samples_leaf': 8.0}\n"
     ]
    },
    {
     "name": "stdout",
     "output_type": "stream",
     "text": [
      "{'min_samples_split': 10.0, 'max_leaf_nodes': 90.0, 'n_estimators': 18.0, 'max_depth': 28.0, 'min_samples_leaf': 4.0}\n",
      "{'min_samples_split': 8.0, 'max_leaf_nodes': 96.0, 'n_estimators': 17.0, 'max_depth': 27.0, 'min_samples_leaf': 4.0}\n",
      "{'min_samples_split': 8.0, 'max_leaf_nodes': 93.0, 'n_estimators': 20.0, 'max_depth': 26.0, 'min_samples_leaf': 4.0}\n",
      "{'min_samples_split': 10.0, 'max_leaf_nodes': 99.0, 'n_estimators': 18.0, 'max_depth': 27.0, 'min_samples_leaf': 4.0}\n",
      "{'min_samples_split': 8.0, 'max_leaf_nodes': 96.0, 'n_estimators': 19.0, 'max_depth': 25.0, 'min_samples_leaf': 8.0}\n",
      "{'min_samples_split': 8.0, 'max_leaf_nodes': 96.0, 'n_estimators': 19.0, 'max_depth': 25.0, 'min_samples_leaf': 8.0}\n",
      "{'min_samples_split': 10.0, 'max_leaf_nodes': 96.0, 'n_estimators': 20.0, 'max_depth': 28.0, 'min_samples_leaf': 4.0}\n",
      "{'min_samples_split': 10.0, 'max_leaf_nodes': 96.0, 'n_estimators': 17.0, 'max_depth': 27.0, 'min_samples_leaf': 4.0}\n",
      "{'min_samples_split': 10.0, 'max_leaf_nodes': 99.0, 'n_estimators': 18.0, 'max_depth': 27.0, 'min_samples_leaf': 4.0}\n",
      "after best\n"
     ]
    },
    {
     "data": {
      "text/plain": [
       "{'max_depth': 27.0,\n",
       " 'max_leaf_nodes': 96.0,\n",
       " 'min_samples_leaf': 4.0,\n",
       " 'min_samples_split': 10.0,\n",
       " 'n_estimators': 19.0}"
      ]
     },
     "execution_count": 35,
     "metadata": {},
     "output_type": "execute_result"
    }
   ],
   "source": [
    "# hyper parameter tuning\n",
    "from hyperopt import fmin, tpe, hp, STATUS_OK, Trials\n",
    "\n",
    "# import sys\n",
    "# print(sys.path)\n",
    "\n",
    "# {'max_depth': 18.0, 'max_leaf_nodes': 75.0, 'n_estimators': 20.0}\n",
    "# {'max_depth': 25.0, 'max_leaf_nodes': 90.0, 'min_samples_leaf': 3.0, 'min_samples_split': 9.0, 'n_estimators': 15.0}\n",
    "# {'max_depth': 27.0, 'max_leaf_nodes': 96.0, 'min_samples_leaf': 4.0, 'min_samples_split': 10.0, 'n_estimators': 19.0}\n",
    "\n",
    "space = {\n",
    "    'max_depth': hp.quniform('max_depth', 25, 30, 1),\n",
    "    'max_leaf_nodes': hp.quniform('max_leaf_nodes', 90, 100, 3),\n",
    "    'n_estimators': hp.quniform('n_estimators', 15, 20, 1),\n",
    "    'min_samples_split': hp.quniform('min_samples_split', 8, 12, 2),\n",
    "    'min_samples_leaf': hp.quniform('min_samples_leaf', 3, 9, 2),\n",
    "}\n",
    "\n",
    "def score(params):\n",
    "    # convert all the numbers to integer\n",
    "#     params['n_estimators'] = int(params['n_estimators'])\n",
    "    print(params)\n",
    "    params = {x: int(y) for x, y in params.iteritems()}\n",
    "    if params['min_samples_leaf'] == 0:\n",
    "        params['min_samples_leaf'] = 1\n",
    "    params['n_jobs'] = -1\n",
    "    clf = RandomForestClassifier(**params)\n",
    "    return {'loss': 1-check_accuracy(clf, X, y, dev_X, dev_y), 'status': STATUS_OK}\n",
    "\n",
    "trials = Trials()\n",
    "print('before best')\n",
    "best = fmin(score, space, algo=tpe.suggest, trials=trials, max_evals=500)\n",
    "print('after best')\n",
    "best"
   ]
  },
  {
   "cell_type": "code",
   "execution_count": 36,
   "metadata": {},
   "outputs": [
    {
     "name": "stderr",
     "output_type": "stream",
     "text": [
      "/usr/lib/python2.7/site-packages/ipykernel_launcher.py:4: DataConversionWarning: A column-vector y was passed when a 1d array was expected. Please change the shape of y to (n_samples,), for example using ravel().\n",
      "  after removing the cwd from sys.path.\n"
     ]
    },
    {
     "data": {
      "text/plain": [
       "0.8848314606741573"
      ]
     },
     "execution_count": 36,
     "metadata": {},
     "output_type": "execute_result"
    }
   ],
   "source": [
    "# use the tune parameter on training set\n",
    "best = {x: int(y) for x, y in best.iteritems()}\n",
    "clf_tuned = RandomForestClassifier(**best)\n",
    "clf_tuned = clf_tuned.fit(X, y)\n",
    "train_pred = clf_tuned.predict(X)\n",
    "accuracy_score(y, train_pred)"
   ]
  },
  {
   "cell_type": "code",
   "execution_count": 37,
   "metadata": {},
   "outputs": [
    {
     "data": {
      "text/plain": [
       "0.82122905027932958"
      ]
     },
     "execution_count": 37,
     "metadata": {},
     "output_type": "execute_result"
    }
   ],
   "source": [
    "# evaluate the tuned hyperparameter with dev set\n",
    "dev_pred = clf_tuned.predict(dev_X)\n",
    "accuracy_score(dev_y, dev_pred)"
   ]
  },
  {
   "cell_type": "code",
   "execution_count": 38,
   "metadata": {},
   "outputs": [
    {
     "data": {
      "text/html": [
       "<div>\n",
       "<style>\n",
       "    .dataframe thead tr:only-child th {\n",
       "        text-align: right;\n",
       "    }\n",
       "\n",
       "    .dataframe thead th {\n",
       "        text-align: left;\n",
       "    }\n",
       "\n",
       "    .dataframe tbody tr th {\n",
       "        vertical-align: top;\n",
       "    }\n",
       "</style>\n",
       "<table border=\"1\" class=\"dataframe\">\n",
       "  <thead>\n",
       "    <tr style=\"text-align: right;\">\n",
       "      <th></th>\n",
       "      <th>Pclass</th>\n",
       "      <th>Sex</th>\n",
       "      <th>Age</th>\n",
       "      <th>SibSp</th>\n",
       "      <th>Parch</th>\n",
       "      <th>Fare</th>\n",
       "      <th>Embarked</th>\n",
       "    </tr>\n",
       "  </thead>\n",
       "  <tbody>\n",
       "    <tr>\n",
       "      <th>0</th>\n",
       "      <td>3</td>\n",
       "      <td>1</td>\n",
       "      <td>34.5</td>\n",
       "      <td>0</td>\n",
       "      <td>0</td>\n",
       "      <td>7.8292</td>\n",
       "      <td>1</td>\n",
       "    </tr>\n",
       "    <tr>\n",
       "      <th>1</th>\n",
       "      <td>3</td>\n",
       "      <td>0</td>\n",
       "      <td>47.0</td>\n",
       "      <td>1</td>\n",
       "      <td>0</td>\n",
       "      <td>7.0000</td>\n",
       "      <td>2</td>\n",
       "    </tr>\n",
       "    <tr>\n",
       "      <th>2</th>\n",
       "      <td>2</td>\n",
       "      <td>1</td>\n",
       "      <td>62.0</td>\n",
       "      <td>0</td>\n",
       "      <td>0</td>\n",
       "      <td>9.6875</td>\n",
       "      <td>1</td>\n",
       "    </tr>\n",
       "    <tr>\n",
       "      <th>3</th>\n",
       "      <td>3</td>\n",
       "      <td>1</td>\n",
       "      <td>27.0</td>\n",
       "      <td>0</td>\n",
       "      <td>0</td>\n",
       "      <td>8.6625</td>\n",
       "      <td>2</td>\n",
       "    </tr>\n",
       "    <tr>\n",
       "      <th>4</th>\n",
       "      <td>3</td>\n",
       "      <td>0</td>\n",
       "      <td>22.0</td>\n",
       "      <td>1</td>\n",
       "      <td>1</td>\n",
       "      <td>12.2875</td>\n",
       "      <td>2</td>\n",
       "    </tr>\n",
       "  </tbody>\n",
       "</table>\n",
       "</div>"
      ],
      "text/plain": [
       "   Pclass  Sex   Age  SibSp  Parch     Fare  Embarked\n",
       "0       3    1  34.5      0      0   7.8292         1\n",
       "1       3    0  47.0      1      0   7.0000         2\n",
       "2       2    1  62.0      0      0   9.6875         1\n",
       "3       3    1  27.0      0      0   8.6625         2\n",
       "4       3    0  22.0      1      1  12.2875         2"
      ]
     },
     "execution_count": 38,
     "metadata": {},
     "output_type": "execute_result"
    }
   ],
   "source": [
    "# read test data\n",
    "test = pd.read_csv(os.path.join(data_dir, 'test.csv'))\n",
    "passenger_id = test[['PassengerId']]\n",
    "test = drop_cols(test)\n",
    "test = impute_data(test)\n",
    "test = data_to_cat(test)\n",
    "\n",
    "test_X = test[['Pclass', 'Sex', 'Age', 'SibSp', 'Parch', 'Fare', 'Embarked']]\n",
    "test_X.head()\n",
    "# test_X.isnull().sum()"
   ]
  },
  {
   "cell_type": "code",
   "execution_count": 39,
   "metadata": {},
   "outputs": [],
   "source": [
    "# write prediction to file\n",
    "pred = clf_tuned.predict(test_X)\n",
    "\n",
    "outfile = os.path.join(data_dir, 'prediction.csv')\n",
    "df = pd.DataFrame()\n",
    "df['PassengerId'] = passenger_id\n",
    "df['Survived'] = pred\n",
    "df.to_csv(outfile, index=False)"
   ]
  },
  {
   "cell_type": "code",
   "execution_count": null,
   "metadata": {
    "collapsed": true
   },
   "outputs": [],
   "source": []
  }
 ],
 "metadata": {
  "kernelspec": {
   "display_name": "Python 2",
   "language": "python",
   "name": "python2"
  },
  "language_info": {
   "codemirror_mode": {
    "name": "ipython",
    "version": 2
   },
   "file_extension": ".py",
   "mimetype": "text/x-python",
   "name": "python",
   "nbconvert_exporter": "python",
   "pygments_lexer": "ipython2",
   "version": "2.7.5"
  }
 },
 "nbformat": 4,
 "nbformat_minor": 1
}
