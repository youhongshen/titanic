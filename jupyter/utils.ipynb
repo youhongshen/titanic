{
 "cells": [
  {
   "cell_type": "code",
   "execution_count": 1,
   "metadata": {},
   "outputs": [],
   "source": [
    "import numpy as np"
   ]
  },
  {
   "cell_type": "code",
   "execution_count": 2,
   "metadata": {},
   "outputs": [],
   "source": [
    "from sklearn.preprocessing import Imputer\n",
    "from sklearn.base import TransformerMixin\n",
    "\n",
    "class CategoricalImputer(TransformerMixin):\n",
    "    def fit(self, X, y=None):\n",
    "        # uniques, counts = np.unique(X, return_counts=True)\n",
    "        self.fill = pd.Series([X[c].value_counts().index[0]\n",
    "                               if X[c].dtype == np.dtype('O') else X[c].mean() for c in X],\n",
    "                              index=X.columns)\n",
    "\n",
    "        return self\n",
    "\n",
    "    def transform(self, X, y=None):\n",
    "        return X.fillna(self.fill)"
   ]
  },
  {
   "cell_type": "code",
   "execution_count": 3,
   "metadata": {},
   "outputs": [],
   "source": [
    "def impute_data(data):\n",
    "    data[['Age', 'Fare']] = Imputer().fit_transform(data[['Age', 'Fare']].values)\n",
    "    embark_imputer = CategoricalImputer()\n",
    "    data['Embarked'] = embark_imputer.fit_transform(data[['Embarked']])\n",
    "    return data\n"
   ]
  },
  {
   "cell_type": "code",
   "execution_count": 4,
   "metadata": {},
   "outputs": [],
   "source": [
    "def cat_to_num(series):\n",
    "    series = series.astype('category')\n",
    "    return series.cat.codes"
   ]
  },
  {
   "cell_type": "code",
   "execution_count": 5,
   "metadata": {},
   "outputs": [],
   "source": [
    "def data_to_cat(data, features):\n",
    "    data[features] = data[features].apply(cat_to_num)\n",
    "    return data"
   ]
  },
  {
   "cell_type": "code",
   "execution_count": 7,
   "metadata": {},
   "outputs": [],
   "source": [
    "def process_family(data):\n",
    "    # feature engineering for family members\n",
    "    data['num_family'] = data[['SibSp', 'Parch']].sum(axis=1)\n",
    "    data['is_alone'] = data['num_family'] == 0\n",
    "    return data"
   ]
  },
  {
   "cell_type": "code",
   "execution_count": null,
   "metadata": {},
   "outputs": [],
   "source": [
    "import pandas as pd\n",
    "\n",
    "def categorize_age(data):\n",
    "    data['age_cat'] = pd.cut(data['Age'], 5)\n",
    "    return data\n",
    "\n",
    "def categorize_fare(data):\n",
    "    data['fare_cat'] = pd.qcut(data['Fare'], 4)\n",
    "    return data"
   ]
  },
  {
   "cell_type": "code",
   "execution_count": null,
   "metadata": {},
   "outputs": [],
   "source": [
    "from sklearn.metrics import accuracy_score\n",
    "\n",
    "def check_accuracy(clf, X, y, test_X, test_y):\n",
    "#   X, y are dataframes \n",
    "    clf = clf.fit(X, y)\n",
    "    pred = clf.predict(test_X)\n",
    "    return accuracy_score(test_y, pred)\n"
   ]
  }
 ],
 "metadata": {
  "kernelspec": {
   "display_name": "Python 2",
   "language": "python",
   "name": "python2"
  },
  "language_info": {
   "codemirror_mode": {
    "name": "ipython",
    "version": 2
   },
   "file_extension": ".py",
   "mimetype": "text/x-python",
   "name": "python",
   "nbconvert_exporter": "python",
   "pygments_lexer": "ipython2",
   "version": "2.7.5"
  }
 },
 "nbformat": 4,
 "nbformat_minor": 2
}
